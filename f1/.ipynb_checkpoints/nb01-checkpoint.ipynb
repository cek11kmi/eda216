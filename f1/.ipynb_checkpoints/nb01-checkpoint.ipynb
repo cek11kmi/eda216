{
 "cells": [
  {
   "cell_type": "markdown",
   "metadata": {},
   "source": [
    "# EDA216 - Lecture 1\n",
    "\n",
    "During the lectures and exercises we'll try out SQL-code in Jupyter\n",
    "Notebooks, and to do that we begin by evaluating:"
   ]
  },
  {
   "cell_type": "code",
   "execution_count": 1,
   "metadata": {
    "collapsed": true
   },
   "outputs": [],
   "source": [
    "%load_ext sql"
   ]
  },
  {
   "cell_type": "code",
   "execution_count": 2,
   "metadata": {
    "collapsed": false
   },
   "outputs": [
    {
     "data": {
      "text/plain": [
       "'Connected: None@None'"
      ]
     },
     "execution_count": 2,
     "metadata": {},
     "output_type": "execute_result"
    }
   ],
   "source": [
    "%sql sqlite://"
   ]
  },
  {
   "cell_type": "markdown",
   "metadata": {},
   "source": [
    "Everything in the code sections is evaluated\n",
    "as [Python](https://www.python.org/) code (more on that later), but\n",
    "lines beginning with `%sql` will be seen as an SQL statement, and all\n",
    "lines following `%%sql` will also be evaluated as SQL statements.\n",
    "\n",
    "## Contacts\n",
    "\n",
    "We first define a table to store our contacts:"
   ]
  },
  {
   "cell_type": "code",
   "execution_count": 3,
   "metadata": {
    "collapsed": false
   },
   "outputs": [
    {
     "name": "stdout",
     "output_type": "stream",
     "text": [
      "Done.\n",
      "Done.\n",
      "3 rows affected.\n"
     ]
    },
    {
     "data": {
      "text/plain": [
       "[]"
      ]
     },
     "execution_count": 3,
     "metadata": {},
     "output_type": "execute_result"
    }
   ],
   "source": [
    "%%sql\n",
    "DROP TABLE IF exists contacts;\n",
    "CREATE TABLE contacts (\n",
    "  name             VARCHAR(32),\n",
    "  phone            VARCHAR(16),\n",
    "  email            VARCHAR(32)\n",
    ");\n",
    "\n",
    "INSERT INTO contacts (name, phone, email)\n",
    "VALUES ('Adam', '650-043-1797', 'adam@life.edu'),\n",
    "       ('Emma', '347-326-4813', 'emma@mail.org'),\n",
    "       ('Christian', '347-326-3154', 'cs@gmail.com');"
   ]
  },
  {
   "cell_type": "markdown",
   "metadata": {},
   "source": [
    "We can see everything that's in the table using:"
   ]
  },
  {
   "cell_type": "code",
   "execution_count": 4,
   "metadata": {
    "collapsed": false
   },
   "outputs": [
    {
     "name": "stdout",
     "output_type": "stream",
     "text": [
      "Done.\n"
     ]
    },
    {
     "data": {
      "text/html": [
       "<table>\n",
       "    <tr>\n",
       "        <th>name</th>\n",
       "        <th>phone</th>\n",
       "        <th>email</th>\n",
       "    </tr>\n",
       "    <tr>\n",
       "        <td>Adam</td>\n",
       "        <td>650-043-1797</td>\n",
       "        <td>adam@life.edu</td>\n",
       "    </tr>\n",
       "    <tr>\n",
       "        <td>Emma</td>\n",
       "        <td>347-326-4813</td>\n",
       "        <td>emma@mail.org</td>\n",
       "    </tr>\n",
       "    <tr>\n",
       "        <td>Christian</td>\n",
       "        <td>347-326-3154</td>\n",
       "        <td>cs@gmail.com</td>\n",
       "    </tr>\n",
       "</table>"
      ],
      "text/plain": [
       "[('Adam', '650-043-1797', 'adam@life.edu'),\n",
       " ('Emma', '347-326-4813', 'emma@mail.org'),\n",
       " ('Christian', '347-326-3154', 'cs@gmail.com')]"
      ]
     },
     "execution_count": 4,
     "metadata": {},
     "output_type": "execute_result"
    }
   ],
   "source": [
    "%%sql\n",
    "SELECT * FROM contacts;"
   ]
  },
  {
   "cell_type": "markdown",
   "metadata": {},
   "source": [
    "### Exercises\n",
    "\n",
    "Write SQL statements to do the following:\n",
    "\n",
    "+  Show all names"
   ]
  },
  {
   "cell_type": "code",
   "execution_count": 1,
   "metadata": {
    "collapsed": false
   },
   "outputs": [
    {
     "name": "stderr",
     "output_type": "stream",
     "text": [
      "ERROR:root:Cell magic `%%sql` not found.\n"
     ]
    }
   ],
   "source": [
    "%%sql\n",
    "SELECT name\n",
    "FROM contacts"
   ]
  },
  {
   "cell_type": "markdown",
   "metadata": {},
   "source": [
    "Chosing just a few columns is called a *projection*.\n",
    "\n",
    "+  Show all names, alphabetically"
   ]
  },
  {
   "cell_type": "code",
   "execution_count": null,
   "metadata": {
    "collapsed": true
   },
   "outputs": [],
   "source": [
    "%%sql\n"
   ]
  },
  {
   "cell_type": "markdown",
   "metadata": {},
   "source": [
    "+  Show all phone numbers"
   ]
  },
  {
   "cell_type": "code",
   "execution_count": null,
   "metadata": {
    "collapsed": true
   },
   "outputs": [],
   "source": [
    "%%sql\n"
   ]
  },
  {
   "cell_type": "markdown",
   "metadata": {},
   "source": [
    "+  Show Adam's phone number and email address"
   ]
  },
  {
   "cell_type": "code",
   "execution_count": null,
   "metadata": {
    "collapsed": true
   },
   "outputs": [],
   "source": [
    "%%sql\n"
   ]
  },
  {
   "cell_type": "markdown",
   "metadata": {},
   "source": [
    "Chosing just a few rows is called a *selection*.\n",
    "\n",
    "+  Show all phone numbers beginning with `347`"
   ]
  },
  {
   "cell_type": "code",
   "execution_count": null,
   "metadata": {
    "collapsed": true
   },
   "outputs": [],
   "source": [
    "%%sql\n"
   ]
  },
  {
   "cell_type": "markdown",
   "metadata": {},
   "source": [
    "## Nobel laureates in literature"
   ]
  },
  {
   "cell_type": "code",
   "execution_count": 5,
   "metadata": {
    "collapsed": false
   },
   "outputs": [
    {
     "data": {
      "text/plain": [
       "'Connected: None@nobel.db'"
      ]
     },
     "execution_count": 5,
     "metadata": {},
     "output_type": "execute_result"
    }
   ],
   "source": [
    "%sql sqlite:///nobel.db"
   ]
  },
  {
   "cell_type": "markdown",
   "metadata": {},
   "source": [
    "To see the structure of a table, we can write:"
   ]
  },
  {
   "cell_type": "code",
   "execution_count": 6,
   "metadata": {
    "collapsed": false
   },
   "outputs": [
    {
     "name": "stdout",
     "output_type": "stream",
     "text": [
      "Done.\n"
     ]
    },
    {
     "data": {
      "text/html": [
       "<table>\n",
       "    <tr>\n",
       "        <th>cid</th>\n",
       "        <th>name</th>\n",
       "        <th>type</th>\n",
       "        <th>notnull</th>\n",
       "        <th>dflt_value</th>\n",
       "        <th>pk</th>\n",
       "    </tr>\n",
       "    <tr>\n",
       "        <td>0</td>\n",
       "        <td>year</td>\n",
       "        <td>INTEGER</td>\n",
       "        <td>0</td>\n",
       "        <td>None</td>\n",
       "        <td>0</td>\n",
       "    </tr>\n",
       "    <tr>\n",
       "        <td>1</td>\n",
       "        <td>name</td>\n",
       "        <td>TEXT</td>\n",
       "        <td>0</td>\n",
       "        <td>None</td>\n",
       "        <td>0</td>\n",
       "    </tr>\n",
       "    <tr>\n",
       "        <td>2</td>\n",
       "        <td>nationality</td>\n",
       "        <td>TEXT</td>\n",
       "        <td>0</td>\n",
       "        <td>None</td>\n",
       "        <td>0</td>\n",
       "    </tr>\n",
       "    <tr>\n",
       "        <td>3</td>\n",
       "        <td>language</td>\n",
       "        <td>TEXT</td>\n",
       "        <td>0</td>\n",
       "        <td>None</td>\n",
       "        <td>0</td>\n",
       "    </tr>\n",
       "    <tr>\n",
       "        <td>4</td>\n",
       "        <td>citation</td>\n",
       "        <td>TEXT</td>\n",
       "        <td>0</td>\n",
       "        <td>None</td>\n",
       "        <td>0</td>\n",
       "    </tr>\n",
       "    <tr>\n",
       "        <td>5</td>\n",
       "        <td>genres</td>\n",
       "        <td>TEXT</td>\n",
       "        <td>0</td>\n",
       "        <td>None</td>\n",
       "        <td>0</td>\n",
       "    </tr>\n",
       "</table>"
      ],
      "text/plain": [
       "[(0, 'year', 'INTEGER', 0, None, 0),\n",
       " (1, 'name', 'TEXT', 0, None, 0),\n",
       " (2, 'nationality', 'TEXT', 0, None, 0),\n",
       " (3, 'language', 'TEXT', 0, None, 0),\n",
       " (4, 'citation', 'TEXT', 0, None, 0),\n",
       " (5, 'genres', 'TEXT', 0, None, 0)]"
      ]
     },
     "execution_count": 6,
     "metadata": {},
     "output_type": "execute_result"
    }
   ],
   "source": [
    "%sql PRAGMA table_info(laureates);"
   ]
  },
  {
   "cell_type": "markdown",
   "metadata": {},
   "source": [
    "We can also get a SQL statement which creates the table in question:"
   ]
  },
  {
   "cell_type": "code",
   "execution_count": null,
   "metadata": {
    "collapsed": true
   },
   "outputs": [],
   "source": [
    "%sql SELECT sql FROM sqlite_master WHERE name = <table name>;"
   ]
  },
  {
   "cell_type": "markdown",
   "metadata": {},
   "source": [
    "This can sometimes be useful, I've put it here for reference.\n",
    "\n",
    "\n",
    "### Exercises\n",
    "\n",
    "+  Show the names of all the laureates"
   ]
  },
  {
   "cell_type": "code",
   "execution_count": 9,
   "metadata": {
    "collapsed": false
   },
   "outputs": [
    {
     "name": "stdout",
     "output_type": "stream",
     "text": [
      "Done.\n"
     ]
    },
    {
     "data": {
      "text/html": [
       "<table>\n",
       "    <tr>\n",
       "        <th>name</th>\n",
       "        <th>year</th>\n",
       "    </tr>\n",
       "    <tr>\n",
       "        <td>Sully Prudhomme</td>\n",
       "        <td>1901</td>\n",
       "    </tr>\n",
       "    <tr>\n",
       "        <td>Theodor Mommsen</td>\n",
       "        <td>1902</td>\n",
       "    </tr>\n",
       "    <tr>\n",
       "        <td>Bjørnstjerne Bjørnson</td>\n",
       "        <td>1903</td>\n",
       "    </tr>\n",
       "    <tr>\n",
       "        <td>Frédéric Mistral</td>\n",
       "        <td>1904</td>\n",
       "    </tr>\n",
       "    <tr>\n",
       "        <td>José Echegaray</td>\n",
       "        <td>1904</td>\n",
       "    </tr>\n",
       "    <tr>\n",
       "        <td>Henryk Sienkiewicz</td>\n",
       "        <td>1905</td>\n",
       "    </tr>\n",
       "    <tr>\n",
       "        <td>Giosuè Carducci</td>\n",
       "        <td>1906</td>\n",
       "    </tr>\n",
       "    <tr>\n",
       "        <td>Rudyard Kipling</td>\n",
       "        <td>1907</td>\n",
       "    </tr>\n",
       "    <tr>\n",
       "        <td>Rudolf Christoph Eucken</td>\n",
       "        <td>1908</td>\n",
       "    </tr>\n",
       "    <tr>\n",
       "        <td>Selma Lagerlöf</td>\n",
       "        <td>1909</td>\n",
       "    </tr>\n",
       "    <tr>\n",
       "        <td>Paul von Heyse</td>\n",
       "        <td>1910</td>\n",
       "    </tr>\n",
       "    <tr>\n",
       "        <td>Maurice Maeterlinck</td>\n",
       "        <td>1911</td>\n",
       "    </tr>\n",
       "    <tr>\n",
       "        <td>Gerhart Hauptmann</td>\n",
       "        <td>1912</td>\n",
       "    </tr>\n",
       "    <tr>\n",
       "        <td>Rabindranath Tagore</td>\n",
       "        <td>1913</td>\n",
       "    </tr>\n",
       "    <tr>\n",
       "        <td>Not awarded</td>\n",
       "        <td>1914</td>\n",
       "    </tr>\n",
       "    <tr>\n",
       "        <td>Romain Rolland</td>\n",
       "        <td>1915</td>\n",
       "    </tr>\n",
       "    <tr>\n",
       "        <td>Verner von Heidenstam</td>\n",
       "        <td>1916</td>\n",
       "    </tr>\n",
       "    <tr>\n",
       "        <td>Karl Adolph Gjellerup</td>\n",
       "        <td>1917</td>\n",
       "    </tr>\n",
       "    <tr>\n",
       "        <td>Henrik Pontoppidan</td>\n",
       "        <td>1917</td>\n",
       "    </tr>\n",
       "    <tr>\n",
       "        <td>Not awarded</td>\n",
       "        <td>1918</td>\n",
       "    </tr>\n",
       "    <tr>\n",
       "        <td>Carl Spitteler</td>\n",
       "        <td>1919</td>\n",
       "    </tr>\n",
       "    <tr>\n",
       "        <td>Knut Hamsun</td>\n",
       "        <td>1920</td>\n",
       "    </tr>\n",
       "    <tr>\n",
       "        <td>Anatole France</td>\n",
       "        <td>1921</td>\n",
       "    </tr>\n",
       "    <tr>\n",
       "        <td>Jacinto Benavente</td>\n",
       "        <td>1922</td>\n",
       "    </tr>\n",
       "    <tr>\n",
       "        <td>William Butler Yeats</td>\n",
       "        <td>1923</td>\n",
       "    </tr>\n",
       "    <tr>\n",
       "        <td>Władysław Reymont</td>\n",
       "        <td>1924</td>\n",
       "    </tr>\n",
       "    <tr>\n",
       "        <td>George Bernard Shaw</td>\n",
       "        <td>1925</td>\n",
       "    </tr>\n",
       "    <tr>\n",
       "        <td>Grazia Deledda</td>\n",
       "        <td>1926</td>\n",
       "    </tr>\n",
       "    <tr>\n",
       "        <td>Henri Bergson</td>\n",
       "        <td>1927</td>\n",
       "    </tr>\n",
       "    <tr>\n",
       "        <td>Sigrid Undset</td>\n",
       "        <td>1928</td>\n",
       "    </tr>\n",
       "    <tr>\n",
       "        <td>Thomas Mann</td>\n",
       "        <td>1929</td>\n",
       "    </tr>\n",
       "    <tr>\n",
       "        <td>Sinclair Lewis</td>\n",
       "        <td>1930</td>\n",
       "    </tr>\n",
       "    <tr>\n",
       "        <td>Erik Axel Karlfeldt</td>\n",
       "        <td>1931</td>\n",
       "    </tr>\n",
       "    <tr>\n",
       "        <td>John Galsworthy</td>\n",
       "        <td>1932</td>\n",
       "    </tr>\n",
       "    <tr>\n",
       "        <td>Ivan Bunin</td>\n",
       "        <td>1933</td>\n",
       "    </tr>\n",
       "    <tr>\n",
       "        <td>Luigi Pirandello</td>\n",
       "        <td>1934</td>\n",
       "    </tr>\n",
       "    <tr>\n",
       "        <td>Not awarded</td>\n",
       "        <td>1935</td>\n",
       "    </tr>\n",
       "    <tr>\n",
       "        <td>Eugene O&#x27;Neill</td>\n",
       "        <td>1936</td>\n",
       "    </tr>\n",
       "    <tr>\n",
       "        <td>Roger Martin du Gard</td>\n",
       "        <td>1937</td>\n",
       "    </tr>\n",
       "    <tr>\n",
       "        <td>Pearl S. Buck</td>\n",
       "        <td>1938</td>\n",
       "    </tr>\n",
       "    <tr>\n",
       "        <td>Frans Eemil Sillanpää</td>\n",
       "        <td>1939</td>\n",
       "    </tr>\n",
       "    <tr>\n",
       "        <td>Not awarded</td>\n",
       "        <td>1940</td>\n",
       "    </tr>\n",
       "    <tr>\n",
       "        <td>Not awarded</td>\n",
       "        <td>1941</td>\n",
       "    </tr>\n",
       "    <tr>\n",
       "        <td>Not awarded</td>\n",
       "        <td>1942</td>\n",
       "    </tr>\n",
       "    <tr>\n",
       "        <td>Not awarded</td>\n",
       "        <td>1943</td>\n",
       "    </tr>\n",
       "    <tr>\n",
       "        <td>Johannes Vilhelm Jensen</td>\n",
       "        <td>1944</td>\n",
       "    </tr>\n",
       "    <tr>\n",
       "        <td>Gabriela Mistral</td>\n",
       "        <td>1945</td>\n",
       "    </tr>\n",
       "    <tr>\n",
       "        <td>Hermann Hesse</td>\n",
       "        <td>1946</td>\n",
       "    </tr>\n",
       "    <tr>\n",
       "        <td>André Gide</td>\n",
       "        <td>1947</td>\n",
       "    </tr>\n",
       "    <tr>\n",
       "        <td>T. S. Eliot</td>\n",
       "        <td>1948</td>\n",
       "    </tr>\n",
       "    <tr>\n",
       "        <td>William Faulkner</td>\n",
       "        <td>1949</td>\n",
       "    </tr>\n",
       "    <tr>\n",
       "        <td>Bertrand Russell</td>\n",
       "        <td>1950</td>\n",
       "    </tr>\n",
       "    <tr>\n",
       "        <td>Pär Lagerkvist</td>\n",
       "        <td>1951</td>\n",
       "    </tr>\n",
       "    <tr>\n",
       "        <td>François Mauriac</td>\n",
       "        <td>1952</td>\n",
       "    </tr>\n",
       "    <tr>\n",
       "        <td>Sir Winston Churchill</td>\n",
       "        <td>1953</td>\n",
       "    </tr>\n",
       "    <tr>\n",
       "        <td>Ernest Hemingway</td>\n",
       "        <td>1954</td>\n",
       "    </tr>\n",
       "    <tr>\n",
       "        <td>Halldór Laxness</td>\n",
       "        <td>1955</td>\n",
       "    </tr>\n",
       "    <tr>\n",
       "        <td>Juan Ramón Jiménez</td>\n",
       "        <td>1956</td>\n",
       "    </tr>\n",
       "    <tr>\n",
       "        <td>Albert Camus</td>\n",
       "        <td>1957</td>\n",
       "    </tr>\n",
       "    <tr>\n",
       "        <td>Boris Pasternak</td>\n",
       "        <td>1958</td>\n",
       "    </tr>\n",
       "    <tr>\n",
       "        <td>Salvatore Quasimodo</td>\n",
       "        <td>1959</td>\n",
       "    </tr>\n",
       "    <tr>\n",
       "        <td>Saint-John Perse</td>\n",
       "        <td>1960</td>\n",
       "    </tr>\n",
       "    <tr>\n",
       "        <td>Ivo Andrić</td>\n",
       "        <td>1961</td>\n",
       "    </tr>\n",
       "    <tr>\n",
       "        <td>John Steinbeck</td>\n",
       "        <td>1962</td>\n",
       "    </tr>\n",
       "    <tr>\n",
       "        <td>Giorgos Seferis</td>\n",
       "        <td>1963</td>\n",
       "    </tr>\n",
       "    <tr>\n",
       "        <td>Jean-Paul Sartre</td>\n",
       "        <td>1964</td>\n",
       "    </tr>\n",
       "    <tr>\n",
       "        <td>Mikhail Sholokhov</td>\n",
       "        <td>1965</td>\n",
       "    </tr>\n",
       "    <tr>\n",
       "        <td>Shmuel Yosef Agnon</td>\n",
       "        <td>1966</td>\n",
       "    </tr>\n",
       "    <tr>\n",
       "        <td>Nelly Sachs</td>\n",
       "        <td>1966</td>\n",
       "    </tr>\n",
       "    <tr>\n",
       "        <td>Miguel Ángel Asturias</td>\n",
       "        <td>1967</td>\n",
       "    </tr>\n",
       "    <tr>\n",
       "        <td>Yasunari Kawabata</td>\n",
       "        <td>1968</td>\n",
       "    </tr>\n",
       "    <tr>\n",
       "        <td>Samuel Beckett</td>\n",
       "        <td>1969</td>\n",
       "    </tr>\n",
       "    <tr>\n",
       "        <td>Aleksandr Solzhenitsyn</td>\n",
       "        <td>1970</td>\n",
       "    </tr>\n",
       "    <tr>\n",
       "        <td>Pablo Neruda</td>\n",
       "        <td>1971</td>\n",
       "    </tr>\n",
       "    <tr>\n",
       "        <td>Heinrich Böll</td>\n",
       "        <td>1972</td>\n",
       "    </tr>\n",
       "    <tr>\n",
       "        <td>Patrick White</td>\n",
       "        <td>1973</td>\n",
       "    </tr>\n",
       "    <tr>\n",
       "        <td>Eyvind Johnson</td>\n",
       "        <td>1974</td>\n",
       "    </tr>\n",
       "    <tr>\n",
       "        <td>Harry Martinson</td>\n",
       "        <td>1974</td>\n",
       "    </tr>\n",
       "    <tr>\n",
       "        <td>Eugenio Montale</td>\n",
       "        <td>1975</td>\n",
       "    </tr>\n",
       "    <tr>\n",
       "        <td>Saul Bellow</td>\n",
       "        <td>1976</td>\n",
       "    </tr>\n",
       "    <tr>\n",
       "        <td>Vicente Aleixandre</td>\n",
       "        <td>1977</td>\n",
       "    </tr>\n",
       "    <tr>\n",
       "        <td>Isaac Bashevis Singer</td>\n",
       "        <td>1978</td>\n",
       "    </tr>\n",
       "    <tr>\n",
       "        <td>Odysseas Elytis</td>\n",
       "        <td>1979</td>\n",
       "    </tr>\n",
       "    <tr>\n",
       "        <td>Czesław Miłosz</td>\n",
       "        <td>1980</td>\n",
       "    </tr>\n",
       "    <tr>\n",
       "        <td>Elias Canetti</td>\n",
       "        <td>1981</td>\n",
       "    </tr>\n",
       "    <tr>\n",
       "        <td>Gabriel García Márquez</td>\n",
       "        <td>1982</td>\n",
       "    </tr>\n",
       "    <tr>\n",
       "        <td>William Golding</td>\n",
       "        <td>1983</td>\n",
       "    </tr>\n",
       "    <tr>\n",
       "        <td>Jaroslav Seifert</td>\n",
       "        <td>1984</td>\n",
       "    </tr>\n",
       "    <tr>\n",
       "        <td>Claude Simon</td>\n",
       "        <td>1985</td>\n",
       "    </tr>\n",
       "    <tr>\n",
       "        <td>Wole Soyinka</td>\n",
       "        <td>1986</td>\n",
       "    </tr>\n",
       "    <tr>\n",
       "        <td>Joseph Brodsky</td>\n",
       "        <td>1987</td>\n",
       "    </tr>\n",
       "    <tr>\n",
       "        <td>Naguib Mahfouz</td>\n",
       "        <td>1988</td>\n",
       "    </tr>\n",
       "    <tr>\n",
       "        <td>Camilo José Cela</td>\n",
       "        <td>1989</td>\n",
       "    </tr>\n",
       "    <tr>\n",
       "        <td>Octavio Paz</td>\n",
       "        <td>1990</td>\n",
       "    </tr>\n",
       "    <tr>\n",
       "        <td>Nadine Gordimer</td>\n",
       "        <td>1991</td>\n",
       "    </tr>\n",
       "    <tr>\n",
       "        <td>Derek Walcott</td>\n",
       "        <td>1992</td>\n",
       "    </tr>\n",
       "    <tr>\n",
       "        <td>Toni Morrison</td>\n",
       "        <td>1993</td>\n",
       "    </tr>\n",
       "    <tr>\n",
       "        <td>Kenzaburō Ōe</td>\n",
       "        <td>1994</td>\n",
       "    </tr>\n",
       "    <tr>\n",
       "        <td>Seamus Heaney</td>\n",
       "        <td>1995</td>\n",
       "    </tr>\n",
       "    <tr>\n",
       "        <td>Wisława Szymborska</td>\n",
       "        <td>1996</td>\n",
       "    </tr>\n",
       "    <tr>\n",
       "        <td>Dario Fo</td>\n",
       "        <td>1997</td>\n",
       "    </tr>\n",
       "    <tr>\n",
       "        <td>José Saramago</td>\n",
       "        <td>1998</td>\n",
       "    </tr>\n",
       "    <tr>\n",
       "        <td>Günter Grass</td>\n",
       "        <td>1999</td>\n",
       "    </tr>\n",
       "    <tr>\n",
       "        <td>Gao Xingjian</td>\n",
       "        <td>2000</td>\n",
       "    </tr>\n",
       "    <tr>\n",
       "        <td>Sir V. S. Naipaul</td>\n",
       "        <td>2001</td>\n",
       "    </tr>\n",
       "    <tr>\n",
       "        <td>Imre Kertész</td>\n",
       "        <td>2002</td>\n",
       "    </tr>\n",
       "    <tr>\n",
       "        <td>J. M. Coetzee</td>\n",
       "        <td>2003</td>\n",
       "    </tr>\n",
       "    <tr>\n",
       "        <td>Elfriede Jelinek</td>\n",
       "        <td>2004</td>\n",
       "    </tr>\n",
       "    <tr>\n",
       "        <td>Harold Pinter</td>\n",
       "        <td>2005</td>\n",
       "    </tr>\n",
       "    <tr>\n",
       "        <td>Orhan Pamuk</td>\n",
       "        <td>2006</td>\n",
       "    </tr>\n",
       "    <tr>\n",
       "        <td>Doris Lessing</td>\n",
       "        <td>2007</td>\n",
       "    </tr>\n",
       "    <tr>\n",
       "        <td>J. M. G. Le Clézio</td>\n",
       "        <td>2008</td>\n",
       "    </tr>\n",
       "    <tr>\n",
       "        <td>Herta Müller</td>\n",
       "        <td>2009</td>\n",
       "    </tr>\n",
       "    <tr>\n",
       "        <td>Mario Vargas Llosa</td>\n",
       "        <td>2010</td>\n",
       "    </tr>\n",
       "    <tr>\n",
       "        <td>Tomas Tranströmer</td>\n",
       "        <td>2011</td>\n",
       "    </tr>\n",
       "    <tr>\n",
       "        <td>Mo Yan</td>\n",
       "        <td>2012</td>\n",
       "    </tr>\n",
       "    <tr>\n",
       "        <td>Alice Munro</td>\n",
       "        <td>2013</td>\n",
       "    </tr>\n",
       "    <tr>\n",
       "        <td>Patrick Modiano</td>\n",
       "        <td>2014</td>\n",
       "    </tr>\n",
       "    <tr>\n",
       "        <td>Svetlana Alexievich</td>\n",
       "        <td>2015</td>\n",
       "    </tr>\n",
       "    <tr>\n",
       "        <td>Bob Dylan</td>\n",
       "        <td>2016</td>\n",
       "    </tr>\n",
       "</table>"
      ],
      "text/plain": [
       "[('Sully Prudhomme', 1901),\n",
       " ('Theodor Mommsen', 1902),\n",
       " ('Bjørnstjerne Bjørnson', 1903),\n",
       " ('Frédéric Mistral', 1904),\n",
       " ('José Echegaray', 1904),\n",
       " ('Henryk Sienkiewicz', 1905),\n",
       " ('Giosuè Carducci', 1906),\n",
       " ('Rudyard Kipling', 1907),\n",
       " ('Rudolf Christoph Eucken', 1908),\n",
       " ('Selma Lagerlöf', 1909),\n",
       " ('Paul von Heyse', 1910),\n",
       " ('Maurice Maeterlinck', 1911),\n",
       " ('Gerhart Hauptmann', 1912),\n",
       " ('Rabindranath Tagore', 1913),\n",
       " ('Not awarded', 1914),\n",
       " ('Romain Rolland', 1915),\n",
       " ('Verner von Heidenstam', 1916),\n",
       " ('Karl Adolph Gjellerup', 1917),\n",
       " ('Henrik Pontoppidan', 1917),\n",
       " ('Not awarded', 1918),\n",
       " ('Carl Spitteler', 1919),\n",
       " ('Knut Hamsun', 1920),\n",
       " ('Anatole France', 1921),\n",
       " ('Jacinto Benavente', 1922),\n",
       " ('William Butler Yeats', 1923),\n",
       " ('Władysław Reymont', 1924),\n",
       " ('George Bernard Shaw', 1925),\n",
       " ('Grazia Deledda', 1926),\n",
       " ('Henri Bergson', 1927),\n",
       " ('Sigrid Undset', 1928),\n",
       " ('Thomas Mann', 1929),\n",
       " ('Sinclair Lewis', 1930),\n",
       " ('Erik Axel Karlfeldt', 1931),\n",
       " ('John Galsworthy', 1932),\n",
       " ('Ivan Bunin', 1933),\n",
       " ('Luigi Pirandello', 1934),\n",
       " ('Not awarded', 1935),\n",
       " (\"Eugene O'Neill\", 1936),\n",
       " ('Roger Martin du Gard', 1937),\n",
       " ('Pearl S. Buck', 1938),\n",
       " ('Frans Eemil Sillanpää', 1939),\n",
       " ('Not awarded', 1940),\n",
       " ('Not awarded', 1941),\n",
       " ('Not awarded', 1942),\n",
       " ('Not awarded', 1943),\n",
       " ('Johannes Vilhelm Jensen', 1944),\n",
       " ('Gabriela Mistral', 1945),\n",
       " ('Hermann Hesse', 1946),\n",
       " ('André Gide', 1947),\n",
       " ('T. S. Eliot', 1948),\n",
       " ('William Faulkner', 1949),\n",
       " ('Bertrand Russell', 1950),\n",
       " ('Pär Lagerkvist', 1951),\n",
       " ('François Mauriac', 1952),\n",
       " ('Sir Winston Churchill', 1953),\n",
       " ('Ernest Hemingway', 1954),\n",
       " ('Halldór Laxness', 1955),\n",
       " ('Juan Ramón Jiménez', 1956),\n",
       " ('Albert Camus', 1957),\n",
       " ('Boris Pasternak', 1958),\n",
       " ('Salvatore Quasimodo', 1959),\n",
       " ('Saint-John Perse', 1960),\n",
       " ('Ivo Andrić', 1961),\n",
       " ('John Steinbeck', 1962),\n",
       " ('Giorgos Seferis', 1963),\n",
       " ('Jean-Paul Sartre', 1964),\n",
       " ('Mikhail Sholokhov', 1965),\n",
       " ('Shmuel Yosef Agnon', 1966),\n",
       " ('Nelly Sachs', 1966),\n",
       " ('Miguel Ángel Asturias', 1967),\n",
       " ('Yasunari Kawabata', 1968),\n",
       " ('Samuel Beckett', 1969),\n",
       " ('Aleksandr Solzhenitsyn', 1970),\n",
       " ('Pablo Neruda', 1971),\n",
       " ('Heinrich Böll', 1972),\n",
       " ('Patrick White', 1973),\n",
       " ('Eyvind Johnson', 1974),\n",
       " ('Harry Martinson', 1974),\n",
       " ('Eugenio Montale', 1975),\n",
       " ('Saul Bellow', 1976),\n",
       " ('Vicente Aleixandre', 1977),\n",
       " ('Isaac Bashevis Singer', 1978),\n",
       " ('Odysseas Elytis', 1979),\n",
       " ('Czesław Miłosz', 1980),\n",
       " ('Elias Canetti', 1981),\n",
       " ('Gabriel García Márquez', 1982),\n",
       " ('William Golding', 1983),\n",
       " ('Jaroslav Seifert', 1984),\n",
       " ('Claude Simon', 1985),\n",
       " ('Wole Soyinka', 1986),\n",
       " ('Joseph Brodsky', 1987),\n",
       " ('Naguib Mahfouz', 1988),\n",
       " ('Camilo José Cela', 1989),\n",
       " ('Octavio Paz', 1990),\n",
       " ('Nadine Gordimer', 1991),\n",
       " ('Derek Walcott', 1992),\n",
       " ('Toni Morrison', 1993),\n",
       " ('Kenzaburō Ōe', 1994),\n",
       " ('Seamus Heaney', 1995),\n",
       " ('Wisława Szymborska', 1996),\n",
       " ('Dario Fo', 1997),\n",
       " ('José Saramago', 1998),\n",
       " ('Günter Grass', 1999),\n",
       " ('Gao Xingjian', 2000),\n",
       " ('Sir V. S. Naipaul', 2001),\n",
       " ('Imre Kertész', 2002),\n",
       " ('J. M. Coetzee', 2003),\n",
       " ('Elfriede Jelinek', 2004),\n",
       " ('Harold Pinter', 2005),\n",
       " ('Orhan Pamuk', 2006),\n",
       " ('Doris Lessing', 2007),\n",
       " ('J. M. G. Le Clézio', 2008),\n",
       " ('Herta Müller', 2009),\n",
       " ('Mario Vargas Llosa', 2010),\n",
       " ('Tomas Tranströmer', 2011),\n",
       " ('Mo Yan', 2012),\n",
       " ('Alice Munro', 2013),\n",
       " ('Patrick Modiano', 2014),\n",
       " ('Svetlana Alexievich', 2015),\n",
       " ('Bob Dylan', 2016)]"
      ]
     },
     "execution_count": 9,
     "metadata": {},
     "output_type": "execute_result"
    }
   ],
   "source": [
    "%%sql\n",
    "SELECT name, year\n",
    "FROM   laureates\n"
   ]
  },
  {
   "cell_type": "markdown",
   "metadata": {},
   "source": [
    "+  When did Winston Churchill win his prize?"
   ]
  },
  {
   "cell_type": "code",
   "execution_count": 11,
   "metadata": {
    "collapsed": false
   },
   "outputs": [
    {
     "name": "stdout",
     "output_type": "stream",
     "text": [
      "Done.\n"
     ]
    },
    {
     "data": {
      "text/html": [
       "<table>\n",
       "    <tr>\n",
       "        <th>year</th>\n",
       "    </tr>\n",
       "    <tr>\n",
       "        <td>1953</td>\n",
       "    </tr>\n",
       "</table>"
      ],
      "text/plain": [
       "[(1953,)]"
      ]
     },
     "execution_count": 11,
     "metadata": {},
     "output_type": "execute_result"
    }
   ],
   "source": [
    "%%sql\n",
    "SELECT year\n",
    "FROM   laureates\n",
    "WHERE  name LIKE '%Winston Churchill'"
   ]
  },
  {
   "cell_type": "markdown",
   "metadata": {},
   "source": [
    "+ Why did Bob Dylan get the prize?"
   ]
  },
  {
   "cell_type": "code",
   "execution_count": 12,
   "metadata": {
    "collapsed": false
   },
   "outputs": [
    {
     "name": "stdout",
     "output_type": "stream",
     "text": [
      "Done.\n"
     ]
    },
    {
     "data": {
      "text/html": [
       "<table>\n",
       "    <tr>\n",
       "        <th>citation</th>\n",
       "    </tr>\n",
       "    <tr>\n",
       "        <td>for having created new poetic expressions within the great American song tradition</td>\n",
       "    </tr>\n",
       "</table>"
      ],
      "text/plain": [
       "[('for having created new poetic expressions within the great American song tradition',)]"
      ]
     },
     "execution_count": 12,
     "metadata": {},
     "output_type": "execute_result"
    }
   ],
   "source": [
    "%%sql\n",
    "SELECT citation\n",
    "FROM   laureates\n",
    "WHERE  name = 'Bob Dylan'"
   ]
  },
  {
   "cell_type": "markdown",
   "metadata": {},
   "source": [
    "+  How many prizes has been awarded?"
   ]
  },
  {
   "cell_type": "code",
   "execution_count": 16,
   "metadata": {
    "collapsed": false,
    "scrolled": false
   },
   "outputs": [
    {
     "name": "stdout",
     "output_type": "stream",
     "text": [
      "Done.\n"
     ]
    },
    {
     "data": {
      "text/html": [
       "<table>\n",
       "    <tr>\n",
       "        <th>year</th>\n",
       "    </tr>\n",
       "    <tr>\n",
       "        <td>1914</td>\n",
       "    </tr>\n",
       "    <tr>\n",
       "        <td>1918</td>\n",
       "    </tr>\n",
       "    <tr>\n",
       "        <td>1935</td>\n",
       "    </tr>\n",
       "    <tr>\n",
       "        <td>1940</td>\n",
       "    </tr>\n",
       "    <tr>\n",
       "        <td>1941</td>\n",
       "    </tr>\n",
       "    <tr>\n",
       "        <td>1942</td>\n",
       "    </tr>\n",
       "    <tr>\n",
       "        <td>1943</td>\n",
       "    </tr>\n",
       "</table>"
      ],
      "text/plain": [
       "[(1914,), (1918,), (1935,), (1940,), (1941,), (1942,), (1943,)]"
      ]
     },
     "execution_count": 16,
     "metadata": {},
     "output_type": "execute_result"
    }
   ],
   "source": [
    "%%sql\n",
    "SELECT year\n",
    "FROM laureates\n",
    "WHERE name = 'Not awarded'"
   ]
  },
  {
   "cell_type": "markdown",
   "metadata": {},
   "source": [
    "+  How many prizes have been won by Swedish authors after 1920?"
   ]
  },
  {
   "cell_type": "code",
   "execution_count": 20,
   "metadata": {
    "collapsed": false
   },
   "outputs": [
    {
     "name": "stdout",
     "output_type": "stream",
     "text": [
      "Done.\n"
     ]
    },
    {
     "data": {
      "text/html": [
       "<table>\n",
       "    <tr>\n",
       "        <th>year</th>\n",
       "        <th>name</th>\n",
       "    </tr>\n",
       "    <tr>\n",
       "        <td>1931</td>\n",
       "        <td>Erik Axel Karlfeldt</td>\n",
       "    </tr>\n",
       "    <tr>\n",
       "        <td>1951</td>\n",
       "        <td>Pär Lagerkvist</td>\n",
       "    </tr>\n",
       "    <tr>\n",
       "        <td>1974</td>\n",
       "        <td>Eyvind Johnson</td>\n",
       "    </tr>\n",
       "    <tr>\n",
       "        <td>2011</td>\n",
       "        <td>Tomas Tranströmer</td>\n",
       "    </tr>\n",
       "</table>"
      ],
      "text/plain": [
       "[(1931, 'Erik Axel Karlfeldt'),\n",
       " (1951, 'Pär Lagerkvist'),\n",
       " (1974, 'Eyvind Johnson'),\n",
       " (2011, 'Tomas Tranströmer')]"
      ]
     },
     "execution_count": 20,
     "metadata": {},
     "output_type": "execute_result"
    }
   ],
   "source": [
    "%%sql\n",
    "SELECT year, name\n",
    "FROM laureates\n",
    "WHERE nationality = 'Sweden' \n",
    "      AND year > 1920\n",
    "      AND name <> 'Harry Martinson'"
   ]
  },
  {
   "cell_type": "markdown",
   "metadata": {},
   "source": [
    "Now return to the slides...\n",
    "\n",
    "\n",
    "## More tables for our contacts"
   ]
  },
  {
   "cell_type": "code",
   "execution_count": 21,
   "metadata": {
    "collapsed": false
   },
   "outputs": [
    {
     "name": "stdout",
     "output_type": "stream",
     "text": [
      "Done.\n",
      "Done.\n",
      "Done.\n",
      "Done.\n",
      "Done.\n",
      "Done.\n",
      "3 rows affected.\n",
      "2 rows affected.\n",
      "4 rows affected.\n"
     ]
    },
    {
     "data": {
      "text/plain": [
       "[]"
      ]
     },
     "execution_count": 21,
     "metadata": {},
     "output_type": "execute_result"
    }
   ],
   "source": [
    "%%sql\n",
    "DROP TABLE IF exists contacts;\n",
    "CREATE TABLE contacts (\n",
    "  id               INT PRIMARY KEY,\n",
    "  name             VARCHAR(32) NOT NULL\n",
    ");\n",
    "\n",
    "DROP TABLE IF exists phone_numbers;\n",
    "CREATE TABLE phone_numbers (\n",
    "  id               INT REFERENCES contacts(id),\n",
    "  phone            VARCHAR(16)\n",
    ");\n",
    "\n",
    "DROP TABLE IF exists email_addresses;\n",
    "CREATE TABLE email_addresses (\n",
    "  id               INT REFERENCES contacts(id),\n",
    "  email            VARCHAR(32)\n",
    ");\n",
    "\n",
    "INSERT INTO contacts (id, name)\n",
    "VALUES (101, 'Adam'),\n",
    "       (102, 'Emma'),\n",
    "       (103, 'Christian');\n",
    "\n",
    "INSERT INTO phone_numbers (id, phone)\n",
    "VALUES (102, '347-326-4813'),\n",
    "       (103, '347-326-3154');\n",
    "\n",
    "INSERT INTO email_addresses (id, email)\n",
    "VALUES (101, 'adam@life.edu'),\n",
    "       (102, 'emma@mail.org'),\n",
    "       (103, 'cs@gmail.com'),\n",
    "       (103, 'cso@work.com');"
   ]
  },
  {
   "cell_type": "markdown",
   "metadata": {},
   "source": [
    "Write SQL statements to do the following:\n",
    "\n",
    "+ Show all names"
   ]
  },
  {
   "cell_type": "code",
   "execution_count": 23,
   "metadata": {
    "collapsed": false
   },
   "outputs": [
    {
     "name": "stdout",
     "output_type": "stream",
     "text": [
      "Done.\n"
     ]
    },
    {
     "data": {
      "text/html": [
       "<table>\n",
       "    <tr>\n",
       "        <th>name</th>\n",
       "    </tr>\n",
       "    <tr>\n",
       "        <td>Adam</td>\n",
       "    </tr>\n",
       "    <tr>\n",
       "        <td>Christian</td>\n",
       "    </tr>\n",
       "    <tr>\n",
       "        <td>Emma</td>\n",
       "    </tr>\n",
       "</table>"
      ],
      "text/plain": [
       "[('Adam',), ('Christian',), ('Emma',)]"
      ]
     },
     "execution_count": 23,
     "metadata": {},
     "output_type": "execute_result"
    }
   ],
   "source": [
    "%%sql\n",
    "SELECT name\n",
    "FROM   contacts\n",
    "ORDER BY name"
   ]
  },
  {
   "cell_type": "markdown",
   "metadata": {},
   "source": [
    "+ Show Emma's phone number"
   ]
  },
  {
   "cell_type": "code",
   "execution_count": 29,
   "metadata": {
    "collapsed": false
   },
   "outputs": [
    {
     "name": "stdout",
     "output_type": "stream",
     "text": [
      "Done.\n"
     ]
    },
    {
     "data": {
      "text/html": [
       "<table>\n",
       "    <tr>\n",
       "        <th>phone</th>\n",
       "    </tr>\n",
       "    <tr>\n",
       "        <td>347-326-4813</td>\n",
       "    </tr>\n",
       "</table>"
      ],
      "text/plain": [
       "[('347-326-4813',)]"
      ]
     },
     "execution_count": 29,
     "metadata": {},
     "output_type": "execute_result"
    }
   ],
   "source": [
    "%%sql\n",
    "SELECT phone\n",
    "FROM   phone_numbers p, contacts c\n",
    "WHERE  name = 'Emma'\n",
    "       AND c.id = p.id"
   ]
  },
  {
   "cell_type": "markdown",
   "metadata": {},
   "source": [
    "+ Show Christian's email addresses"
   ]
  },
  {
   "cell_type": "code",
   "execution_count": 30,
   "metadata": {
    "collapsed": false
   },
   "outputs": [
    {
     "name": "stdout",
     "output_type": "stream",
     "text": [
      "Done.\n"
     ]
    },
    {
     "data": {
      "text/html": [
       "<table>\n",
       "    <tr>\n",
       "        <th>email</th>\n",
       "    </tr>\n",
       "    <tr>\n",
       "        <td>cs@gmail.com</td>\n",
       "    </tr>\n",
       "    <tr>\n",
       "        <td>cso@work.com</td>\n",
       "    </tr>\n",
       "</table>"
      ],
      "text/plain": [
       "[('cs@gmail.com',), ('cso@work.com',)]"
      ]
     },
     "execution_count": 30,
     "metadata": {},
     "output_type": "execute_result"
    }
   ],
   "source": [
    "%%sql\n",
    "SELECT email\n",
    "FROM   email_addresses e, contacts c\n",
    "WHERE  name = 'Christian'\n",
    "       AND e.id = c.id"
   ]
  },
  {
   "cell_type": "markdown",
   "metadata": {},
   "source": [
    "+ Show the name and email address of everyone with a phone number beginning\n",
    "  with `347`"
   ]
  },
  {
   "cell_type": "code",
   "execution_count": 31,
   "metadata": {
    "collapsed": false
   },
   "outputs": [
    {
     "name": "stdout",
     "output_type": "stream",
     "text": [
      "Done.\n"
     ]
    },
    {
     "data": {
      "text/html": [
       "<table>\n",
       "    <tr>\n",
       "        <th>name</th>\n",
       "        <th>email</th>\n",
       "    </tr>\n",
       "    <tr>\n",
       "        <td>Emma</td>\n",
       "        <td>emma@mail.org</td>\n",
       "    </tr>\n",
       "    <tr>\n",
       "        <td>Christian</td>\n",
       "        <td>cs@gmail.com</td>\n",
       "    </tr>\n",
       "    <tr>\n",
       "        <td>Christian</td>\n",
       "        <td>cso@work.com</td>\n",
       "    </tr>\n",
       "</table>"
      ],
      "text/plain": [
       "[('Emma', 'emma@mail.org'),\n",
       " ('Christian', 'cs@gmail.com'),\n",
       " ('Christian', 'cso@work.com')]"
      ]
     },
     "execution_count": 31,
     "metadata": {},
     "output_type": "execute_result"
    }
   ],
   "source": [
    "%%sql\n",
    "SELECT name, email\n",
    "FROM   contacts c, phone_numbers p, email_addresses e\n",
    "WHERE  phone like '347%'\n",
    "       AND p.id = c.id\n",
    "       AND p.id = e.id"
   ]
  },
  {
   "cell_type": "markdown",
   "metadata": {},
   "source": [
    "+ Show the name and phone number of everyone with an email ending with\n",
    "  `.com`"
   ]
  },
  {
   "cell_type": "code",
   "execution_count": 34,
   "metadata": {
    "collapsed": false
   },
   "outputs": [
    {
     "name": "stdout",
     "output_type": "stream",
     "text": [
      "Done.\n"
     ]
    },
    {
     "data": {
      "text/html": [
       "<table>\n",
       "    <tr>\n",
       "        <th>name</th>\n",
       "        <th>phone</th>\n",
       "    </tr>\n",
       "    <tr>\n",
       "        <td>Christian</td>\n",
       "        <td>347-326-4813</td>\n",
       "    </tr>\n",
       "    <tr>\n",
       "        <td>Christian</td>\n",
       "        <td>347-326-3154</td>\n",
       "    </tr>\n",
       "</table>"
      ],
      "text/plain": [
       "[('Christian', '347-326-4813'), ('Christian', '347-326-3154')]"
      ]
     },
     "execution_count": 34,
     "metadata": {},
     "output_type": "execute_result"
    }
   ],
   "source": [
    "%%sql\n",
    "SELECT DISTINCT name, phone\n",
    "FROM   contacts c, phone_numbers p, email_addresses e\n",
    "WHERE  email LIKE '%.com'\n",
    "       AND e.id = c.id"
   ]
  },
  {
   "cell_type": "code",
   "execution_count": null,
   "metadata": {
    "collapsed": true
   },
   "outputs": [],
   "source": []
  }
 ],
 "metadata": {
  "anaconda-cloud": {},
  "kernelspec": {
   "display_name": "Python [default]",
   "language": "python",
   "name": "python3"
  },
  "language_info": {
   "codemirror_mode": {
    "name": "ipython",
    "version": 3
   },
   "file_extension": ".py",
   "mimetype": "text/x-python",
   "name": "python",
   "nbconvert_exporter": "python",
   "pygments_lexer": "ipython3",
   "version": "3.5.2"
  }
 },
 "nbformat": 4,
 "nbformat_minor": 1
}
