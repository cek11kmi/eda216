{
 "cells": [
  {
   "cell_type": "markdown",
   "metadata": {},
   "source": [
    "# EDA216 - Lecture 1\n",
    "\n",
    "During the lectures and exercises we'll try out SQL-code in Jupyter\n",
    "Notebooks, and to do that we begin by evaluating:"
   ]
  },
  {
   "cell_type": "code",
   "execution_count": 1,
   "metadata": {
    "collapsed": true
   },
   "outputs": [],
   "source": [
    "%load_ext sql"
   ]
  },
  {
   "cell_type": "code",
   "execution_count": 2,
   "metadata": {
    "collapsed": false
   },
   "outputs": [
    {
     "data": {
      "text/plain": [
       "'Connected: None@None'"
      ]
     },
     "execution_count": 2,
     "metadata": {},
     "output_type": "execute_result"
    }
   ],
   "source": [
    "%sql sqlite://"
   ]
  },
  {
   "cell_type": "markdown",
   "metadata": {},
   "source": [
    "Everything in the code sections is evaluated\n",
    "as [Python](https://www.python.org/) code (more on that later), but\n",
    "lines beginning with `%sql` will be seen as an SQL statement, and all\n",
    "lines following `%%sql` will also be evaluated as SQL statements.\n",
    "\n",
    "## Contacts\n",
    "\n",
    "We first define a table to store our contacts:"
   ]
  },
  {
   "cell_type": "code",
   "execution_count": 3,
   "metadata": {
    "collapsed": false
   },
   "outputs": [
    {
     "name": "stdout",
     "output_type": "stream",
     "text": [
      "Done.\n",
      "Done.\n",
      "3 rows affected.\n"
     ]
    },
    {
     "data": {
      "text/plain": [
       "[]"
      ]
     },
     "execution_count": 3,
     "metadata": {},
     "output_type": "execute_result"
    }
   ],
   "source": [
    "%%sql\n",
    "DROP TABLE IF exists contacts;\n",
    "CREATE TABLE contacts (\n",
    "  name             VARCHAR(32),\n",
    "  phone            VARCHAR(16),\n",
    "  email            VARCHAR(32)\n",
    ");\n",
    "\n",
    "INSERT INTO contacts (name, phone, email)\n",
    "VALUES ('Adam', '650-043-1797', 'adam@life.edu'),\n",
    "       ('Emma', '347-326-4813', 'emma@mail.org'),\n",
    "       ('Christian', '347-326-3154', 'cs@gmail.com');"
   ]
  },
  {
   "cell_type": "markdown",
   "metadata": {},
   "source": [
    "We can see everything that's in the table using:"
   ]
  },
  {
   "cell_type": "code",
   "execution_count": 4,
   "metadata": {
    "collapsed": false
   },
   "outputs": [
    {
     "name": "stdout",
     "output_type": "stream",
     "text": [
      "Done.\n"
     ]
    },
    {
     "data": {
      "text/html": [
       "<table>\n",
       "    <tr>\n",
       "        <th>name</th>\n",
       "        <th>phone</th>\n",
       "        <th>email</th>\n",
       "    </tr>\n",
       "    <tr>\n",
       "        <td>Adam</td>\n",
       "        <td>650-043-1797</td>\n",
       "        <td>adam@life.edu</td>\n",
       "    </tr>\n",
       "    <tr>\n",
       "        <td>Emma</td>\n",
       "        <td>347-326-4813</td>\n",
       "        <td>emma@mail.org</td>\n",
       "    </tr>\n",
       "    <tr>\n",
       "        <td>Christian</td>\n",
       "        <td>347-326-3154</td>\n",
       "        <td>cs@gmail.com</td>\n",
       "    </tr>\n",
       "</table>"
      ],
      "text/plain": [
       "[('Adam', '650-043-1797', 'adam@life.edu'),\n",
       " ('Emma', '347-326-4813', 'emma@mail.org'),\n",
       " ('Christian', '347-326-3154', 'cs@gmail.com')]"
      ]
     },
     "execution_count": 4,
     "metadata": {},
     "output_type": "execute_result"
    }
   ],
   "source": [
    "%%sql\n",
    "SELECT * FROM contacts;"
   ]
  },
  {
   "cell_type": "markdown",
   "metadata": {},
   "source": [
    "### Exercises\n",
    "\n",
    "Write SQL statements to do the following:\n",
    "\n",
    "+  Show all names"
   ]
  },
  {
   "cell_type": "code",
   "execution_count": 5,
   "metadata": {
    "collapsed": false
   },
   "outputs": [
    {
     "name": "stdout",
     "output_type": "stream",
     "text": [
      "Done.\n"
     ]
    },
    {
     "data": {
      "text/html": [
       "<table>\n",
       "    <tr>\n",
       "        <th>name</th>\n",
       "    </tr>\n",
       "    <tr>\n",
       "        <td>Adam</td>\n",
       "    </tr>\n",
       "    <tr>\n",
       "        <td>Emma</td>\n",
       "    </tr>\n",
       "    <tr>\n",
       "        <td>Christian</td>\n",
       "    </tr>\n",
       "</table>"
      ],
      "text/plain": [
       "[('Adam',), ('Emma',), ('Christian',)]"
      ]
     },
     "execution_count": 5,
     "metadata": {},
     "output_type": "execute_result"
    }
   ],
   "source": [
    "%%sql\n",
    "SELECT name\n",
    "FROM contacts"
   ]
  },
  {
   "cell_type": "markdown",
   "metadata": {},
   "source": [
    "Chosing just a few columns is called a *projection*.\n",
    "\n",
    "+  Show all names, alphabetically"
   ]
  },
  {
   "cell_type": "code",
   "execution_count": 6,
   "metadata": {
    "collapsed": false
   },
   "outputs": [
    {
     "name": "stdout",
     "output_type": "stream",
     "text": [
      "Done.\n"
     ]
    },
    {
     "data": {
      "text/html": [
       "<table>\n",
       "    <tr>\n",
       "        <th>name</th>\n",
       "    </tr>\n",
       "    <tr>\n",
       "        <td>Adam</td>\n",
       "    </tr>\n",
       "    <tr>\n",
       "        <td>Christian</td>\n",
       "    </tr>\n",
       "    <tr>\n",
       "        <td>Emma</td>\n",
       "    </tr>\n",
       "</table>"
      ],
      "text/plain": [
       "[('Adam',), ('Christian',), ('Emma',)]"
      ]
     },
     "execution_count": 6,
     "metadata": {},
     "output_type": "execute_result"
    }
   ],
   "source": [
    "%%sql\n",
    "SELECT name\n",
    "FROM contacts\n",
    "ORDER BY name"
   ]
  },
  {
   "cell_type": "markdown",
   "metadata": {},
   "source": [
    "+  Show all phone numbers"
   ]
  },
  {
   "cell_type": "code",
   "execution_count": 7,
   "metadata": {
    "collapsed": false
   },
   "outputs": [
    {
     "name": "stdout",
     "output_type": "stream",
     "text": [
      "Done.\n"
     ]
    },
    {
     "data": {
      "text/html": [
       "<table>\n",
       "    <tr>\n",
       "        <th>phone</th>\n",
       "    </tr>\n",
       "    <tr>\n",
       "        <td>650-043-1797</td>\n",
       "    </tr>\n",
       "    <tr>\n",
       "        <td>347-326-4813</td>\n",
       "    </tr>\n",
       "    <tr>\n",
       "        <td>347-326-3154</td>\n",
       "    </tr>\n",
       "</table>"
      ],
      "text/plain": [
       "[('650-043-1797',), ('347-326-4813',), ('347-326-3154',)]"
      ]
     },
     "execution_count": 7,
     "metadata": {},
     "output_type": "execute_result"
    }
   ],
   "source": [
    "%%sql\n",
    "SELECT phone\n",
    "FROM contacts"
   ]
  },
  {
   "cell_type": "markdown",
   "metadata": {},
   "source": [
    "+  Show Adam's phone number and email address"
   ]
  },
  {
   "cell_type": "code",
   "execution_count": 9,
   "metadata": {
    "collapsed": false
   },
   "outputs": [
    {
     "name": "stdout",
     "output_type": "stream",
     "text": [
      "Done.\n"
     ]
    },
    {
     "data": {
      "text/html": [
       "<table>\n",
       "    <tr>\n",
       "        <th>phone</th>\n",
       "        <th>email</th>\n",
       "    </tr>\n",
       "    <tr>\n",
       "        <td>650-043-1797</td>\n",
       "        <td>adam@life.edu</td>\n",
       "    </tr>\n",
       "</table>"
      ],
      "text/plain": [
       "[('650-043-1797', 'adam@life.edu')]"
      ]
     },
     "execution_count": 9,
     "metadata": {},
     "output_type": "execute_result"
    }
   ],
   "source": [
    "%%sql\n",
    "SELECT phone, email\n",
    "FROM contacts\n",
    "WHERE name = 'Adam'"
   ]
  },
  {
   "cell_type": "markdown",
   "metadata": {},
   "source": [
    "Chosing just a few rows is called a *selection*.\n",
    "\n",
    "+  Show all phone numbers beginning with `347`"
   ]
  },
  {
   "cell_type": "code",
   "execution_count": 10,
   "metadata": {
    "collapsed": false
   },
   "outputs": [
    {
     "name": "stdout",
     "output_type": "stream",
     "text": [
      "Done.\n"
     ]
    },
    {
     "data": {
      "text/html": [
       "<table>\n",
       "    <tr>\n",
       "        <th>phone</th>\n",
       "    </tr>\n",
       "    <tr>\n",
       "        <td>347-326-4813</td>\n",
       "    </tr>\n",
       "    <tr>\n",
       "        <td>347-326-3154</td>\n",
       "    </tr>\n",
       "</table>"
      ],
      "text/plain": [
       "[('347-326-4813',), ('347-326-3154',)]"
      ]
     },
     "execution_count": 10,
     "metadata": {},
     "output_type": "execute_result"
    }
   ],
   "source": [
    "%%sql\n",
    "SELECT phone\n",
    "FROM contacts\n",
    "WHERE phone LIKE '347%'"
   ]
  },
  {
   "cell_type": "markdown",
   "metadata": {},
   "source": [
    "## Nobel laureates in literature"
   ]
  },
  {
   "cell_type": "code",
   "execution_count": 11,
   "metadata": {
    "collapsed": false
   },
   "outputs": [
    {
     "data": {
      "text/plain": [
       "'Connected: None@nobel.db'"
      ]
     },
     "execution_count": 11,
     "metadata": {},
     "output_type": "execute_result"
    }
   ],
   "source": [
    "%sql sqlite:///nobel.db"
   ]
  },
  {
   "cell_type": "markdown",
   "metadata": {},
   "source": [
    "To see the structure of a table, we can write:"
   ]
  },
  {
   "cell_type": "code",
   "execution_count": 12,
   "metadata": {
    "collapsed": false
   },
   "outputs": [
    {
     "name": "stdout",
     "output_type": "stream",
     "text": [
      "Done.\n"
     ]
    },
    {
     "data": {
      "text/html": [
       "<table>\n",
       "    <tr>\n",
       "        <th>cid</th>\n",
       "        <th>name</th>\n",
       "        <th>type</th>\n",
       "        <th>notnull</th>\n",
       "        <th>dflt_value</th>\n",
       "        <th>pk</th>\n",
       "    </tr>\n",
       "    <tr>\n",
       "        <td>0</td>\n",
       "        <td>year</td>\n",
       "        <td>INTEGER</td>\n",
       "        <td>0</td>\n",
       "        <td>None</td>\n",
       "        <td>0</td>\n",
       "    </tr>\n",
       "    <tr>\n",
       "        <td>1</td>\n",
       "        <td>name</td>\n",
       "        <td>TEXT</td>\n",
       "        <td>0</td>\n",
       "        <td>None</td>\n",
       "        <td>0</td>\n",
       "    </tr>\n",
       "    <tr>\n",
       "        <td>2</td>\n",
       "        <td>nationality</td>\n",
       "        <td>TEXT</td>\n",
       "        <td>0</td>\n",
       "        <td>None</td>\n",
       "        <td>0</td>\n",
       "    </tr>\n",
       "    <tr>\n",
       "        <td>3</td>\n",
       "        <td>language</td>\n",
       "        <td>TEXT</td>\n",
       "        <td>0</td>\n",
       "        <td>None</td>\n",
       "        <td>0</td>\n",
       "    </tr>\n",
       "    <tr>\n",
       "        <td>4</td>\n",
       "        <td>citation</td>\n",
       "        <td>TEXT</td>\n",
       "        <td>0</td>\n",
       "        <td>None</td>\n",
       "        <td>0</td>\n",
       "    </tr>\n",
       "    <tr>\n",
       "        <td>5</td>\n",
       "        <td>genres</td>\n",
       "        <td>TEXT</td>\n",
       "        <td>0</td>\n",
       "        <td>None</td>\n",
       "        <td>0</td>\n",
       "    </tr>\n",
       "</table>"
      ],
      "text/plain": [
       "[(0, 'year', 'INTEGER', 0, None, 0),\n",
       " (1, 'name', 'TEXT', 0, None, 0),\n",
       " (2, 'nationality', 'TEXT', 0, None, 0),\n",
       " (3, 'language', 'TEXT', 0, None, 0),\n",
       " (4, 'citation', 'TEXT', 0, None, 0),\n",
       " (5, 'genres', 'TEXT', 0, None, 0)]"
      ]
     },
     "execution_count": 12,
     "metadata": {},
     "output_type": "execute_result"
    }
   ],
   "source": [
    "%sql PRAGMA table_info(laureates);"
   ]
  },
  {
   "cell_type": "markdown",
   "metadata": {},
   "source": [
    "We can also get a SQL statement which creates the table in question:"
   ]
  },
  {
   "cell_type": "code",
   "execution_count": 13,
   "metadata": {
    "collapsed": false
   },
   "outputs": [
    {
     "name": "stdout",
     "output_type": "stream",
     "text": [
      "(sqlite3.OperationalError) near \"<\": syntax error [SQL: 'SELECT sql FROM sqlite_master WHERE name = <table name>;']\n"
     ]
    }
   ],
   "source": [
    "%sql SELECT sql FROM sqlite_master WHERE name = <table name>;"
   ]
  },
  {
   "cell_type": "markdown",
   "metadata": {},
   "source": [
    "This can sometimes be useful, I've put it here for reference.\n",
    "\n",
    "\n",
    "### Exercises\n",
    "\n",
    "+  Show the names of all the laureates"
   ]
  },
  {
   "cell_type": "code",
   "execution_count": 14,
   "metadata": {
    "collapsed": false
   },
   "outputs": [
    {
     "name": "stdout",
     "output_type": "stream",
     "text": [
      "Done.\n"
     ]
    },
    {
     "data": {
      "text/html": [
       "<table>\n",
       "    <tr>\n",
       "        <th>name</th>\n",
       "    </tr>\n",
       "    <tr>\n",
       "        <td>Sully Prudhomme</td>\n",
       "    </tr>\n",
       "    <tr>\n",
       "        <td>Theodor Mommsen</td>\n",
       "    </tr>\n",
       "    <tr>\n",
       "        <td>Bjørnstjerne Bjørnson</td>\n",
       "    </tr>\n",
       "    <tr>\n",
       "        <td>Frédéric Mistral</td>\n",
       "    </tr>\n",
       "    <tr>\n",
       "        <td>José Echegaray</td>\n",
       "    </tr>\n",
       "    <tr>\n",
       "        <td>Henryk Sienkiewicz</td>\n",
       "    </tr>\n",
       "    <tr>\n",
       "        <td>Giosuè Carducci</td>\n",
       "    </tr>\n",
       "    <tr>\n",
       "        <td>Rudyard Kipling</td>\n",
       "    </tr>\n",
       "    <tr>\n",
       "        <td>Rudolf Christoph Eucken</td>\n",
       "    </tr>\n",
       "    <tr>\n",
       "        <td>Selma Lagerlöf</td>\n",
       "    </tr>\n",
       "    <tr>\n",
       "        <td>Paul von Heyse</td>\n",
       "    </tr>\n",
       "    <tr>\n",
       "        <td>Maurice Maeterlinck</td>\n",
       "    </tr>\n",
       "    <tr>\n",
       "        <td>Gerhart Hauptmann</td>\n",
       "    </tr>\n",
       "    <tr>\n",
       "        <td>Rabindranath Tagore</td>\n",
       "    </tr>\n",
       "    <tr>\n",
       "        <td>Not awarded</td>\n",
       "    </tr>\n",
       "    <tr>\n",
       "        <td>Romain Rolland</td>\n",
       "    </tr>\n",
       "    <tr>\n",
       "        <td>Verner von Heidenstam</td>\n",
       "    </tr>\n",
       "    <tr>\n",
       "        <td>Karl Adolph Gjellerup</td>\n",
       "    </tr>\n",
       "    <tr>\n",
       "        <td>Henrik Pontoppidan</td>\n",
       "    </tr>\n",
       "    <tr>\n",
       "        <td>Not awarded</td>\n",
       "    </tr>\n",
       "    <tr>\n",
       "        <td>Carl Spitteler</td>\n",
       "    </tr>\n",
       "    <tr>\n",
       "        <td>Knut Hamsun</td>\n",
       "    </tr>\n",
       "    <tr>\n",
       "        <td>Anatole France</td>\n",
       "    </tr>\n",
       "    <tr>\n",
       "        <td>Jacinto Benavente</td>\n",
       "    </tr>\n",
       "    <tr>\n",
       "        <td>William Butler Yeats</td>\n",
       "    </tr>\n",
       "    <tr>\n",
       "        <td>Władysław Reymont</td>\n",
       "    </tr>\n",
       "    <tr>\n",
       "        <td>George Bernard Shaw</td>\n",
       "    </tr>\n",
       "    <tr>\n",
       "        <td>Grazia Deledda</td>\n",
       "    </tr>\n",
       "    <tr>\n",
       "        <td>Henri Bergson</td>\n",
       "    </tr>\n",
       "    <tr>\n",
       "        <td>Sigrid Undset</td>\n",
       "    </tr>\n",
       "    <tr>\n",
       "        <td>Thomas Mann</td>\n",
       "    </tr>\n",
       "    <tr>\n",
       "        <td>Sinclair Lewis</td>\n",
       "    </tr>\n",
       "    <tr>\n",
       "        <td>Erik Axel Karlfeldt</td>\n",
       "    </tr>\n",
       "    <tr>\n",
       "        <td>John Galsworthy</td>\n",
       "    </tr>\n",
       "    <tr>\n",
       "        <td>Ivan Bunin</td>\n",
       "    </tr>\n",
       "    <tr>\n",
       "        <td>Luigi Pirandello</td>\n",
       "    </tr>\n",
       "    <tr>\n",
       "        <td>Not awarded</td>\n",
       "    </tr>\n",
       "    <tr>\n",
       "        <td>Eugene O&#x27;Neill</td>\n",
       "    </tr>\n",
       "    <tr>\n",
       "        <td>Roger Martin du Gard</td>\n",
       "    </tr>\n",
       "    <tr>\n",
       "        <td>Pearl S. Buck</td>\n",
       "    </tr>\n",
       "    <tr>\n",
       "        <td>Frans Eemil Sillanpää</td>\n",
       "    </tr>\n",
       "    <tr>\n",
       "        <td>Not awarded</td>\n",
       "    </tr>\n",
       "    <tr>\n",
       "        <td>Not awarded</td>\n",
       "    </tr>\n",
       "    <tr>\n",
       "        <td>Not awarded</td>\n",
       "    </tr>\n",
       "    <tr>\n",
       "        <td>Not awarded</td>\n",
       "    </tr>\n",
       "    <tr>\n",
       "        <td>Johannes Vilhelm Jensen</td>\n",
       "    </tr>\n",
       "    <tr>\n",
       "        <td>Gabriela Mistral</td>\n",
       "    </tr>\n",
       "    <tr>\n",
       "        <td>Hermann Hesse</td>\n",
       "    </tr>\n",
       "    <tr>\n",
       "        <td>André Gide</td>\n",
       "    </tr>\n",
       "    <tr>\n",
       "        <td>T. S. Eliot</td>\n",
       "    </tr>\n",
       "    <tr>\n",
       "        <td>William Faulkner</td>\n",
       "    </tr>\n",
       "    <tr>\n",
       "        <td>Bertrand Russell</td>\n",
       "    </tr>\n",
       "    <tr>\n",
       "        <td>Pär Lagerkvist</td>\n",
       "    </tr>\n",
       "    <tr>\n",
       "        <td>François Mauriac</td>\n",
       "    </tr>\n",
       "    <tr>\n",
       "        <td>Sir Winston Churchill</td>\n",
       "    </tr>\n",
       "    <tr>\n",
       "        <td>Ernest Hemingway</td>\n",
       "    </tr>\n",
       "    <tr>\n",
       "        <td>Halldór Laxness</td>\n",
       "    </tr>\n",
       "    <tr>\n",
       "        <td>Juan Ramón Jiménez</td>\n",
       "    </tr>\n",
       "    <tr>\n",
       "        <td>Albert Camus</td>\n",
       "    </tr>\n",
       "    <tr>\n",
       "        <td>Boris Pasternak</td>\n",
       "    </tr>\n",
       "    <tr>\n",
       "        <td>Salvatore Quasimodo</td>\n",
       "    </tr>\n",
       "    <tr>\n",
       "        <td>Saint-John Perse</td>\n",
       "    </tr>\n",
       "    <tr>\n",
       "        <td>Ivo Andrić</td>\n",
       "    </tr>\n",
       "    <tr>\n",
       "        <td>John Steinbeck</td>\n",
       "    </tr>\n",
       "    <tr>\n",
       "        <td>Giorgos Seferis</td>\n",
       "    </tr>\n",
       "    <tr>\n",
       "        <td>Jean-Paul Sartre</td>\n",
       "    </tr>\n",
       "    <tr>\n",
       "        <td>Mikhail Sholokhov</td>\n",
       "    </tr>\n",
       "    <tr>\n",
       "        <td>Shmuel Yosef Agnon</td>\n",
       "    </tr>\n",
       "    <tr>\n",
       "        <td>Nelly Sachs</td>\n",
       "    </tr>\n",
       "    <tr>\n",
       "        <td>Miguel Ángel Asturias</td>\n",
       "    </tr>\n",
       "    <tr>\n",
       "        <td>Yasunari Kawabata</td>\n",
       "    </tr>\n",
       "    <tr>\n",
       "        <td>Samuel Beckett</td>\n",
       "    </tr>\n",
       "    <tr>\n",
       "        <td>Aleksandr Solzhenitsyn</td>\n",
       "    </tr>\n",
       "    <tr>\n",
       "        <td>Pablo Neruda</td>\n",
       "    </tr>\n",
       "    <tr>\n",
       "        <td>Heinrich Böll</td>\n",
       "    </tr>\n",
       "    <tr>\n",
       "        <td>Patrick White</td>\n",
       "    </tr>\n",
       "    <tr>\n",
       "        <td>Eyvind Johnson</td>\n",
       "    </tr>\n",
       "    <tr>\n",
       "        <td>Harry Martinson</td>\n",
       "    </tr>\n",
       "    <tr>\n",
       "        <td>Eugenio Montale</td>\n",
       "    </tr>\n",
       "    <tr>\n",
       "        <td>Saul Bellow</td>\n",
       "    </tr>\n",
       "    <tr>\n",
       "        <td>Vicente Aleixandre</td>\n",
       "    </tr>\n",
       "    <tr>\n",
       "        <td>Isaac Bashevis Singer</td>\n",
       "    </tr>\n",
       "    <tr>\n",
       "        <td>Odysseas Elytis</td>\n",
       "    </tr>\n",
       "    <tr>\n",
       "        <td>Czesław Miłosz</td>\n",
       "    </tr>\n",
       "    <tr>\n",
       "        <td>Elias Canetti</td>\n",
       "    </tr>\n",
       "    <tr>\n",
       "        <td>Gabriel García Márquez</td>\n",
       "    </tr>\n",
       "    <tr>\n",
       "        <td>William Golding</td>\n",
       "    </tr>\n",
       "    <tr>\n",
       "        <td>Jaroslav Seifert</td>\n",
       "    </tr>\n",
       "    <tr>\n",
       "        <td>Claude Simon</td>\n",
       "    </tr>\n",
       "    <tr>\n",
       "        <td>Wole Soyinka</td>\n",
       "    </tr>\n",
       "    <tr>\n",
       "        <td>Joseph Brodsky</td>\n",
       "    </tr>\n",
       "    <tr>\n",
       "        <td>Naguib Mahfouz</td>\n",
       "    </tr>\n",
       "    <tr>\n",
       "        <td>Camilo José Cela</td>\n",
       "    </tr>\n",
       "    <tr>\n",
       "        <td>Octavio Paz</td>\n",
       "    </tr>\n",
       "    <tr>\n",
       "        <td>Nadine Gordimer</td>\n",
       "    </tr>\n",
       "    <tr>\n",
       "        <td>Derek Walcott</td>\n",
       "    </tr>\n",
       "    <tr>\n",
       "        <td>Toni Morrison</td>\n",
       "    </tr>\n",
       "    <tr>\n",
       "        <td>Kenzaburō Ōe</td>\n",
       "    </tr>\n",
       "    <tr>\n",
       "        <td>Seamus Heaney</td>\n",
       "    </tr>\n",
       "    <tr>\n",
       "        <td>Wisława Szymborska</td>\n",
       "    </tr>\n",
       "    <tr>\n",
       "        <td>Dario Fo</td>\n",
       "    </tr>\n",
       "    <tr>\n",
       "        <td>José Saramago</td>\n",
       "    </tr>\n",
       "    <tr>\n",
       "        <td>Günter Grass</td>\n",
       "    </tr>\n",
       "    <tr>\n",
       "        <td>Gao Xingjian</td>\n",
       "    </tr>\n",
       "    <tr>\n",
       "        <td>Sir V. S. Naipaul</td>\n",
       "    </tr>\n",
       "    <tr>\n",
       "        <td>Imre Kertész</td>\n",
       "    </tr>\n",
       "    <tr>\n",
       "        <td>J. M. Coetzee</td>\n",
       "    </tr>\n",
       "    <tr>\n",
       "        <td>Elfriede Jelinek</td>\n",
       "    </tr>\n",
       "    <tr>\n",
       "        <td>Harold Pinter</td>\n",
       "    </tr>\n",
       "    <tr>\n",
       "        <td>Orhan Pamuk</td>\n",
       "    </tr>\n",
       "    <tr>\n",
       "        <td>Doris Lessing</td>\n",
       "    </tr>\n",
       "    <tr>\n",
       "        <td>J. M. G. Le Clézio</td>\n",
       "    </tr>\n",
       "    <tr>\n",
       "        <td>Herta Müller</td>\n",
       "    </tr>\n",
       "    <tr>\n",
       "        <td>Mario Vargas Llosa</td>\n",
       "    </tr>\n",
       "    <tr>\n",
       "        <td>Tomas Tranströmer</td>\n",
       "    </tr>\n",
       "    <tr>\n",
       "        <td>Mo Yan</td>\n",
       "    </tr>\n",
       "    <tr>\n",
       "        <td>Alice Munro</td>\n",
       "    </tr>\n",
       "    <tr>\n",
       "        <td>Patrick Modiano</td>\n",
       "    </tr>\n",
       "    <tr>\n",
       "        <td>Svetlana Alexievich</td>\n",
       "    </tr>\n",
       "    <tr>\n",
       "        <td>Bob Dylan</td>\n",
       "    </tr>\n",
       "</table>"
      ],
      "text/plain": [
       "[('Sully Prudhomme',),\n",
       " ('Theodor Mommsen',),\n",
       " ('Bjørnstjerne Bjørnson',),\n",
       " ('Frédéric Mistral',),\n",
       " ('José Echegaray',),\n",
       " ('Henryk Sienkiewicz',),\n",
       " ('Giosuè Carducci',),\n",
       " ('Rudyard Kipling',),\n",
       " ('Rudolf Christoph Eucken',),\n",
       " ('Selma Lagerlöf',),\n",
       " ('Paul von Heyse',),\n",
       " ('Maurice Maeterlinck',),\n",
       " ('Gerhart Hauptmann',),\n",
       " ('Rabindranath Tagore',),\n",
       " ('Not awarded',),\n",
       " ('Romain Rolland',),\n",
       " ('Verner von Heidenstam',),\n",
       " ('Karl Adolph Gjellerup',),\n",
       " ('Henrik Pontoppidan',),\n",
       " ('Not awarded',),\n",
       " ('Carl Spitteler',),\n",
       " ('Knut Hamsun',),\n",
       " ('Anatole France',),\n",
       " ('Jacinto Benavente',),\n",
       " ('William Butler Yeats',),\n",
       " ('Władysław Reymont',),\n",
       " ('George Bernard Shaw',),\n",
       " ('Grazia Deledda',),\n",
       " ('Henri Bergson',),\n",
       " ('Sigrid Undset',),\n",
       " ('Thomas Mann',),\n",
       " ('Sinclair Lewis',),\n",
       " ('Erik Axel Karlfeldt',),\n",
       " ('John Galsworthy',),\n",
       " ('Ivan Bunin',),\n",
       " ('Luigi Pirandello',),\n",
       " ('Not awarded',),\n",
       " (\"Eugene O'Neill\",),\n",
       " ('Roger Martin du Gard',),\n",
       " ('Pearl S. Buck',),\n",
       " ('Frans Eemil Sillanpää',),\n",
       " ('Not awarded',),\n",
       " ('Not awarded',),\n",
       " ('Not awarded',),\n",
       " ('Not awarded',),\n",
       " ('Johannes Vilhelm Jensen',),\n",
       " ('Gabriela Mistral',),\n",
       " ('Hermann Hesse',),\n",
       " ('André Gide',),\n",
       " ('T. S. Eliot',),\n",
       " ('William Faulkner',),\n",
       " ('Bertrand Russell',),\n",
       " ('Pär Lagerkvist',),\n",
       " ('François Mauriac',),\n",
       " ('Sir Winston Churchill',),\n",
       " ('Ernest Hemingway',),\n",
       " ('Halldór Laxness',),\n",
       " ('Juan Ramón Jiménez',),\n",
       " ('Albert Camus',),\n",
       " ('Boris Pasternak',),\n",
       " ('Salvatore Quasimodo',),\n",
       " ('Saint-John Perse',),\n",
       " ('Ivo Andrić',),\n",
       " ('John Steinbeck',),\n",
       " ('Giorgos Seferis',),\n",
       " ('Jean-Paul Sartre',),\n",
       " ('Mikhail Sholokhov',),\n",
       " ('Shmuel Yosef Agnon',),\n",
       " ('Nelly Sachs',),\n",
       " ('Miguel Ángel Asturias',),\n",
       " ('Yasunari Kawabata',),\n",
       " ('Samuel Beckett',),\n",
       " ('Aleksandr Solzhenitsyn',),\n",
       " ('Pablo Neruda',),\n",
       " ('Heinrich Böll',),\n",
       " ('Patrick White',),\n",
       " ('Eyvind Johnson',),\n",
       " ('Harry Martinson',),\n",
       " ('Eugenio Montale',),\n",
       " ('Saul Bellow',),\n",
       " ('Vicente Aleixandre',),\n",
       " ('Isaac Bashevis Singer',),\n",
       " ('Odysseas Elytis',),\n",
       " ('Czesław Miłosz',),\n",
       " ('Elias Canetti',),\n",
       " ('Gabriel García Márquez',),\n",
       " ('William Golding',),\n",
       " ('Jaroslav Seifert',),\n",
       " ('Claude Simon',),\n",
       " ('Wole Soyinka',),\n",
       " ('Joseph Brodsky',),\n",
       " ('Naguib Mahfouz',),\n",
       " ('Camilo José Cela',),\n",
       " ('Octavio Paz',),\n",
       " ('Nadine Gordimer',),\n",
       " ('Derek Walcott',),\n",
       " ('Toni Morrison',),\n",
       " ('Kenzaburō Ōe',),\n",
       " ('Seamus Heaney',),\n",
       " ('Wisława Szymborska',),\n",
       " ('Dario Fo',),\n",
       " ('José Saramago',),\n",
       " ('Günter Grass',),\n",
       " ('Gao Xingjian',),\n",
       " ('Sir V. S. Naipaul',),\n",
       " ('Imre Kertész',),\n",
       " ('J. M. Coetzee',),\n",
       " ('Elfriede Jelinek',),\n",
       " ('Harold Pinter',),\n",
       " ('Orhan Pamuk',),\n",
       " ('Doris Lessing',),\n",
       " ('J. M. G. Le Clézio',),\n",
       " ('Herta Müller',),\n",
       " ('Mario Vargas Llosa',),\n",
       " ('Tomas Tranströmer',),\n",
       " ('Mo Yan',),\n",
       " ('Alice Munro',),\n",
       " ('Patrick Modiano',),\n",
       " ('Svetlana Alexievich',),\n",
       " ('Bob Dylan',)]"
      ]
     },
     "execution_count": 14,
     "metadata": {},
     "output_type": "execute_result"
    }
   ],
   "source": [
    "%%sql\n",
    "SELECT name\n",
    "FROM laureates"
   ]
  },
  {
   "cell_type": "markdown",
   "metadata": {},
   "source": [
    "+  When did Winston Churchill win his prize?"
   ]
  },
  {
   "cell_type": "code",
   "execution_count": 15,
   "metadata": {
    "collapsed": false
   },
   "outputs": [
    {
     "name": "stdout",
     "output_type": "stream",
     "text": [
      "Done.\n"
     ]
    },
    {
     "data": {
      "text/html": [
       "<table>\n",
       "    <tr>\n",
       "        <th>year</th>\n",
       "    </tr>\n",
       "    <tr>\n",
       "        <td>1953</td>\n",
       "    </tr>\n",
       "</table>"
      ],
      "text/plain": [
       "[(1953,)]"
      ]
     },
     "execution_count": 15,
     "metadata": {},
     "output_type": "execute_result"
    }
   ],
   "source": [
    "%%sql\n",
    "SELECT year\n",
    "FROM laureates\n",
    "WHERE name LIKE '%Churchill'"
   ]
  },
  {
   "cell_type": "markdown",
   "metadata": {},
   "source": [
    "+ Why did Bob Dylan get the prize?"
   ]
  },
  {
   "cell_type": "code",
   "execution_count": 16,
   "metadata": {
    "collapsed": false
   },
   "outputs": [
    {
     "name": "stdout",
     "output_type": "stream",
     "text": [
      "Done.\n"
     ]
    },
    {
     "data": {
      "text/html": [
       "<table>\n",
       "    <tr>\n",
       "        <th>citation</th>\n",
       "    </tr>\n",
       "    <tr>\n",
       "        <td>for having created new poetic expressions within the great American song tradition</td>\n",
       "    </tr>\n",
       "</table>"
      ],
      "text/plain": [
       "[('for having created new poetic expressions within the great American song tradition',)]"
      ]
     },
     "execution_count": 16,
     "metadata": {},
     "output_type": "execute_result"
    }
   ],
   "source": [
    "%%sql\n",
    "SELECT citation\n",
    "FROM laureates\n",
    "WHERE name = 'Bob Dylan'"
   ]
  },
  {
   "cell_type": "markdown",
   "metadata": {},
   "source": [
    "+  How many prizes has been awarded?"
   ]
  },
  {
   "cell_type": "code",
   "execution_count": 18,
   "metadata": {
    "collapsed": false
   },
   "outputs": [
    {
     "name": "stdout",
     "output_type": "stream",
     "text": [
      "Done.\n"
     ]
    },
    {
     "data": {
      "text/html": [
       "<table>\n",
       "    <tr>\n",
       "        <th>count()</th>\n",
       "    </tr>\n",
       "    <tr>\n",
       "        <td>113</td>\n",
       "    </tr>\n",
       "</table>"
      ],
      "text/plain": [
       "[(113,)]"
      ]
     },
     "execution_count": 18,
     "metadata": {},
     "output_type": "execute_result"
    }
   ],
   "source": [
    "%%sql\n",
    "SELECT count()\n",
    "FROM laureates\n",
    "WHERE name <> 'Not awarded'"
   ]
  },
  {
   "cell_type": "markdown",
   "metadata": {},
   "source": [
    "+  How many prizes have been won by Swedish authors after 1920?"
   ]
  },
  {
   "cell_type": "code",
   "execution_count": 21,
   "metadata": {
    "collapsed": false
   },
   "outputs": [
    {
     "name": "stdout",
     "output_type": "stream",
     "text": [
      "Done.\n"
     ]
    },
    {
     "data": {
      "text/html": [
       "<table>\n",
       "    <tr>\n",
       "        <th>count()</th>\n",
       "    </tr>\n",
       "    <tr>\n",
       "        <td>5</td>\n",
       "    </tr>\n",
       "</table>"
      ],
      "text/plain": [
       "[(5,)]"
      ]
     },
     "execution_count": 21,
     "metadata": {},
     "output_type": "execute_result"
    }
   ],
   "source": [
    "%%sql\n",
    "SELECT count()\n",
    "FROM laureates\n",
    "WHERE nationality = 'Sweden'\n",
    "      AND year > 1920"
   ]
  },
  {
   "cell_type": "markdown",
   "metadata": {},
   "source": [
    "Now return to the slides...\n",
    "\n",
    "\n",
    "## More tables for our contacts"
   ]
  },
  {
   "cell_type": "code",
   "execution_count": 22,
   "metadata": {
    "collapsed": false
   },
   "outputs": [
    {
     "name": "stdout",
     "output_type": "stream",
     "text": [
      "Done.\n",
      "Done.\n",
      "Done.\n",
      "Done.\n",
      "Done.\n",
      "Done.\n",
      "3 rows affected.\n",
      "2 rows affected.\n",
      "4 rows affected.\n"
     ]
    },
    {
     "data": {
      "text/plain": [
       "[]"
      ]
     },
     "execution_count": 22,
     "metadata": {},
     "output_type": "execute_result"
    }
   ],
   "source": [
    "%%sql\n",
    "DROP TABLE IF exists contacts;\n",
    "CREATE TABLE contacts (\n",
    "  id               INT PRIMARY KEY,\n",
    "  name             VARCHAR(32) NOT NULL\n",
    ");\n",
    "\n",
    "DROP TABLE IF exists phone_numbers;\n",
    "CREATE TABLE phone_numbers (\n",
    "  id               INT REFERENCES contacts(id),\n",
    "  phone            VARCHAR(16)\n",
    ");\n",
    "\n",
    "DROP TABLE IF exists email_addresses;\n",
    "CREATE TABLE email_addresses (\n",
    "  id               INT REFERENCES contacts(id),\n",
    "  email            VARCHAR(32)\n",
    ");\n",
    "\n",
    "INSERT INTO contacts (id, name)\n",
    "VALUES (101, 'Adam'),\n",
    "       (102, 'Emma'),\n",
    "       (103, 'Christian');\n",
    "\n",
    "INSERT INTO phone_numbers (id, phone)\n",
    "VALUES (102, '347-326-4813'),\n",
    "       (103, '347-326-3154');\n",
    "\n",
    "INSERT INTO email_addresses (id, email)\n",
    "VALUES (101, 'adam@life.edu'),\n",
    "       (102, 'emma@mail.org'),\n",
    "       (103, 'cs@gmail.com'),\n",
    "       (103, 'cso@work.com');"
   ]
  },
  {
   "cell_type": "markdown",
   "metadata": {},
   "source": [
    "Write SQL statements to do the following:\n",
    "\n",
    "+ Show all names"
   ]
  },
  {
   "cell_type": "code",
   "execution_count": 23,
   "metadata": {
    "collapsed": false
   },
   "outputs": [
    {
     "name": "stdout",
     "output_type": "stream",
     "text": [
      "Done.\n"
     ]
    },
    {
     "data": {
      "text/html": [
       "<table>\n",
       "    <tr>\n",
       "        <th>name</th>\n",
       "    </tr>\n",
       "    <tr>\n",
       "        <td>Adam</td>\n",
       "    </tr>\n",
       "    <tr>\n",
       "        <td>Emma</td>\n",
       "    </tr>\n",
       "    <tr>\n",
       "        <td>Christian</td>\n",
       "    </tr>\n",
       "</table>"
      ],
      "text/plain": [
       "[('Adam',), ('Emma',), ('Christian',)]"
      ]
     },
     "execution_count": 23,
     "metadata": {},
     "output_type": "execute_result"
    }
   ],
   "source": [
    "%%sql\n",
    "SELECT name\n",
    "FROM contacts"
   ]
  },
  {
   "cell_type": "markdown",
   "metadata": {},
   "source": [
    "+ Show Emma's phone number"
   ]
  },
  {
   "cell_type": "code",
   "execution_count": 25,
   "metadata": {
    "collapsed": false
   },
   "outputs": [
    {
     "name": "stdout",
     "output_type": "stream",
     "text": [
      "Done.\n"
     ]
    },
    {
     "data": {
      "text/html": [
       "<table>\n",
       "    <tr>\n",
       "        <th>phone</th>\n",
       "    </tr>\n",
       "    <tr>\n",
       "        <td>347-326-4813</td>\n",
       "    </tr>\n",
       "</table>"
      ],
      "text/plain": [
       "[('347-326-4813',)]"
      ]
     },
     "execution_count": 25,
     "metadata": {},
     "output_type": "execute_result"
    }
   ],
   "source": [
    "%%sql\n",
    "SELECT phone\n",
    "FROM contacts c, phone_numbers p\n",
    "WHERE name = 'Emma'\n",
    "     AND c.id = p.id"
   ]
  },
  {
   "cell_type": "markdown",
   "metadata": {},
   "source": [
    "+ Show Christian's email addresses"
   ]
  },
  {
   "cell_type": "code",
   "execution_count": 27,
   "metadata": {
    "collapsed": false
   },
   "outputs": [
    {
     "name": "stdout",
     "output_type": "stream",
     "text": [
      "Done.\n"
     ]
    },
    {
     "data": {
      "text/html": [
       "<table>\n",
       "    <tr>\n",
       "        <th>email</th>\n",
       "    </tr>\n",
       "    <tr>\n",
       "        <td>cs@gmail.com</td>\n",
       "    </tr>\n",
       "    <tr>\n",
       "        <td>cso@work.com</td>\n",
       "    </tr>\n",
       "</table>"
      ],
      "text/plain": [
       "[('cs@gmail.com',), ('cso@work.com',)]"
      ]
     },
     "execution_count": 27,
     "metadata": {},
     "output_type": "execute_result"
    }
   ],
   "source": [
    "%%sql\n",
    "SELECT DISTINCT email\n",
    "FROM contacts c, email_addresses e\n",
    "WHERE name = 'Christian'\n",
    "    AND c.id = e.id"
   ]
  },
  {
   "cell_type": "markdown",
   "metadata": {},
   "source": [
    "+ Show the name and email address of everyone with a phone number beginning\n",
    "  with `347`"
   ]
  },
  {
   "cell_type": "code",
   "execution_count": 30,
   "metadata": {
    "collapsed": false
   },
   "outputs": [
    {
     "name": "stdout",
     "output_type": "stream",
     "text": [
      "Done.\n"
     ]
    },
    {
     "data": {
      "text/html": [
       "<table>\n",
       "    <tr>\n",
       "        <th>name</th>\n",
       "        <th>email</th>\n",
       "    </tr>\n",
       "    <tr>\n",
       "        <td>Emma</td>\n",
       "        <td>emma@mail.org</td>\n",
       "    </tr>\n",
       "    <tr>\n",
       "        <td>Christian</td>\n",
       "        <td>cs@gmail.com</td>\n",
       "    </tr>\n",
       "    <tr>\n",
       "        <td>Christian</td>\n",
       "        <td>cso@work.com</td>\n",
       "    </tr>\n",
       "</table>"
      ],
      "text/plain": [
       "[('Emma', 'emma@mail.org'),\n",
       " ('Christian', 'cs@gmail.com'),\n",
       " ('Christian', 'cso@work.com')]"
      ]
     },
     "execution_count": 30,
     "metadata": {},
     "output_type": "execute_result"
    }
   ],
   "source": [
    "%%sql\n",
    "SELECT DISTINCT name, email\n",
    "FROM contacts c, email_addresses e, phone_numbers p\n",
    "WHERE phone LIKE '347%'\n",
    "    AND c.id = p.id\n",
    "    AND e.id = p.id"
   ]
  },
  {
   "cell_type": "markdown",
   "metadata": {},
   "source": [
    "+ Show the name and phone number of everyone with an email ending with\n",
    "  `.com`"
   ]
  },
  {
   "cell_type": "code",
   "execution_count": 33,
   "metadata": {
    "collapsed": false
   },
   "outputs": [
    {
     "name": "stdout",
     "output_type": "stream",
     "text": [
      "Done.\n"
     ]
    },
    {
     "data": {
      "text/html": [
       "<table>\n",
       "    <tr>\n",
       "        <th>name</th>\n",
       "        <th>phone</th>\n",
       "    </tr>\n",
       "    <tr>\n",
       "        <td>Christian</td>\n",
       "        <td>347-326-3154</td>\n",
       "    </tr>\n",
       "</table>"
      ],
      "text/plain": [
       "[('Christian', '347-326-3154')]"
      ]
     },
     "execution_count": 33,
     "metadata": {},
     "output_type": "execute_result"
    }
   ],
   "source": [
    "%%sql\n",
    "SELECT DISTINCT name, phone\n",
    "FROM contacts c, phone_numbers p, email_addresses e\n",
    "WHERE email LIKE '%.com'\n",
    "    AND c.id = e.id\n",
    "    AND p.id = e.id"
   ]
  },
  {
   "cell_type": "code",
   "execution_count": null,
   "metadata": {
    "collapsed": true
   },
   "outputs": [],
   "source": []
  },
  {
   "cell_type": "code",
   "execution_count": null,
   "metadata": {
    "collapsed": true
   },
   "outputs": [],
   "source": []
  }
 ],
 "metadata": {
  "anaconda-cloud": {},
  "kernelspec": {
   "display_name": "Python [default]",
   "language": "python",
   "name": "python3"
  },
  "language_info": {
   "codemirror_mode": {
    "name": "ipython",
    "version": 3
   },
   "file_extension": ".py",
   "mimetype": "text/x-python",
   "name": "python",
   "nbconvert_exporter": "python",
   "pygments_lexer": "ipython3",
   "version": "3.5.2"
  }
 },
 "nbformat": 4,
 "nbformat_minor": 1
}
