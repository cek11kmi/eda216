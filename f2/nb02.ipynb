{
 "cells": [
  {
   "cell_type": "markdown",
   "metadata": {},
   "source": [
    "# EDA216 - Lecture 2\n",
    "\n",
    "During the lectures and exercises we'll try out SQL-code in Jupyter\n",
    "Notebooks, and to do that we begin by evaluating:"
   ]
  },
  {
   "cell_type": "code",
   "execution_count": 1,
   "metadata": {
    "collapsed": true
   },
   "outputs": [],
   "source": [
    "%load_ext sql"
   ]
  },
  {
   "cell_type": "markdown",
   "metadata": {},
   "source": [
    "This time I'll use a database defined for a Stanford course:"
   ]
  },
  {
   "cell_type": "code",
   "execution_count": 2,
   "metadata": {
    "collapsed": false
   },
   "outputs": [
    {
     "data": {
      "text/plain": [
       "'Connected: None@db02.db'"
      ]
     },
     "execution_count": 2,
     "metadata": {},
     "output_type": "execute_result"
    }
   ],
   "source": [
    "%sql sqlite:///db02.db"
   ]
  },
  {
   "cell_type": "markdown",
   "metadata": {},
   "source": [
    "Everything in the code sections is evaluated\n",
    "as [Python](https://www.python.org/) code (more on that later), but\n",
    "lines beginning with `%sql` will be seen as an SQL statement, and all\n",
    "lines following `%%sql` will also be evaluated as SQL statements.\n",
    "\n",
    "## Joins\n",
    "\n",
    "The following example is taken from Jennifer Widom, with some name\n",
    "alterations (to comply with the style I've been using).\n",
    "\n",
    "We have the following schema:"
   ]
  },
  {
   "cell_type": "markdown",
   "metadata": {},
   "source": [
    "~~~~ {.sql}\n",
    "CREATE TABLE colleges(c_name text, state text, enrollment int);\n",
    "CREATE TABLE students(s_id int, s_name text, gpa real, size_hs int);\n",
    "CREATE TABLE applications(s_id int, c_name text, major text, decision text);\n",
    "~~~~\n"
   ]
  },
  {
   "cell_type": "markdown",
   "metadata": {},
   "source": [
    "A typical selection:"
   ]
  },
  {
   "cell_type": "code",
   "execution_count": 3,
   "metadata": {
    "collapsed": false
   },
   "outputs": [
    {
     "name": "stdout",
     "output_type": "stream",
     "text": [
      "Done.\n"
     ]
    },
    {
     "data": {
      "text/html": [
       "<table>\n",
       "    <tr>\n",
       "        <th>s_name</th>\n",
       "        <th>major</th>\n",
       "    </tr>\n",
       "    <tr>\n",
       "        <td>Amy</td>\n",
       "        <td>CS</td>\n",
       "    </tr>\n",
       "    <tr>\n",
       "        <td>Amy</td>\n",
       "        <td>EE</td>\n",
       "    </tr>\n",
       "    <tr>\n",
       "        <td>Bob</td>\n",
       "        <td>biology</td>\n",
       "    </tr>\n",
       "    <tr>\n",
       "        <td>Craig</td>\n",
       "        <td>CS</td>\n",
       "    </tr>\n",
       "    <tr>\n",
       "        <td>Craig</td>\n",
       "        <td>EE</td>\n",
       "    </tr>\n",
       "    <tr>\n",
       "        <td>Craig</td>\n",
       "        <td>bioengineering</td>\n",
       "    </tr>\n",
       "    <tr>\n",
       "        <td>Fay</td>\n",
       "        <td>history</td>\n",
       "    </tr>\n",
       "    <tr>\n",
       "        <td>Helen</td>\n",
       "        <td>CS</td>\n",
       "    </tr>\n",
       "    <tr>\n",
       "        <td>Irene</td>\n",
       "        <td>CS</td>\n",
       "    </tr>\n",
       "    <tr>\n",
       "        <td>Irene</td>\n",
       "        <td>biology</td>\n",
       "    </tr>\n",
       "    <tr>\n",
       "        <td>Irene</td>\n",
       "        <td>marine biology</td>\n",
       "    </tr>\n",
       "    <tr>\n",
       "        <td>Jay</td>\n",
       "        <td>history</td>\n",
       "    </tr>\n",
       "    <tr>\n",
       "        <td>Jay</td>\n",
       "        <td>psychology</td>\n",
       "    </tr>\n",
       "</table>"
      ],
      "text/plain": [
       "[('Amy', 'CS'),\n",
       " ('Amy', 'EE'),\n",
       " ('Bob', 'biology'),\n",
       " ('Craig', 'CS'),\n",
       " ('Craig', 'EE'),\n",
       " ('Craig', 'bioengineering'),\n",
       " ('Fay', 'history'),\n",
       " ('Helen', 'CS'),\n",
       " ('Irene', 'CS'),\n",
       " ('Irene', 'biology'),\n",
       " ('Irene', 'marine biology'),\n",
       " ('Jay', 'history'),\n",
       " ('Jay', 'psychology')]"
      ]
     },
     "execution_count": 3,
     "metadata": {},
     "output_type": "execute_result"
    }
   ],
   "source": [
    "%%sql\n",
    "SELECT DISTINCT s_name, major\n",
    "FROM   students s, applications a\n",
    "WHERE  s.s_id = a.s_id"
   ]
  },
  {
   "cell_type": "markdown",
   "metadata": {},
   "source": [
    "The comma in the `FROM` clause gives us a cross join:"
   ]
  },
  {
   "cell_type": "code",
   "execution_count": 4,
   "metadata": {
    "collapsed": false
   },
   "outputs": [
    {
     "name": "stdout",
     "output_type": "stream",
     "text": [
      "Done.\n"
     ]
    },
    {
     "data": {
      "text/html": [
       "<table>\n",
       "    <tr>\n",
       "        <th>s_name</th>\n",
       "        <th>major</th>\n",
       "    </tr>\n",
       "    <tr>\n",
       "        <td>Amy</td>\n",
       "        <td>CS</td>\n",
       "    </tr>\n",
       "    <tr>\n",
       "        <td>Amy</td>\n",
       "        <td>EE</td>\n",
       "    </tr>\n",
       "    <tr>\n",
       "        <td>Bob</td>\n",
       "        <td>biology</td>\n",
       "    </tr>\n",
       "    <tr>\n",
       "        <td>Craig</td>\n",
       "        <td>CS</td>\n",
       "    </tr>\n",
       "    <tr>\n",
       "        <td>Craig</td>\n",
       "        <td>EE</td>\n",
       "    </tr>\n",
       "    <tr>\n",
       "        <td>Craig</td>\n",
       "        <td>bioengineering</td>\n",
       "    </tr>\n",
       "    <tr>\n",
       "        <td>Fay</td>\n",
       "        <td>history</td>\n",
       "    </tr>\n",
       "    <tr>\n",
       "        <td>Helen</td>\n",
       "        <td>CS</td>\n",
       "    </tr>\n",
       "    <tr>\n",
       "        <td>Irene</td>\n",
       "        <td>CS</td>\n",
       "    </tr>\n",
       "    <tr>\n",
       "        <td>Irene</td>\n",
       "        <td>biology</td>\n",
       "    </tr>\n",
       "    <tr>\n",
       "        <td>Irene</td>\n",
       "        <td>marine biology</td>\n",
       "    </tr>\n",
       "    <tr>\n",
       "        <td>Jay</td>\n",
       "        <td>history</td>\n",
       "    </tr>\n",
       "    <tr>\n",
       "        <td>Jay</td>\n",
       "        <td>psychology</td>\n",
       "    </tr>\n",
       "</table>"
      ],
      "text/plain": [
       "[('Amy', 'CS'),\n",
       " ('Amy', 'EE'),\n",
       " ('Bob', 'biology'),\n",
       " ('Craig', 'CS'),\n",
       " ('Craig', 'EE'),\n",
       " ('Craig', 'bioengineering'),\n",
       " ('Fay', 'history'),\n",
       " ('Helen', 'CS'),\n",
       " ('Irene', 'CS'),\n",
       " ('Irene', 'biology'),\n",
       " ('Irene', 'marine biology'),\n",
       " ('Jay', 'history'),\n",
       " ('Jay', 'psychology')]"
      ]
     },
     "execution_count": 4,
     "metadata": {},
     "output_type": "execute_result"
    }
   ],
   "source": [
    "%%sql\n",
    "SELECT DISTINCT s_name, major\n",
    "FROM   students s CROSS JOIN applications a\n",
    "WHERE  s.s_id = a.s_id"
   ]
  },
  {
   "cell_type": "markdown",
   "metadata": {},
   "source": [
    "This can be rewritten as a *inner join* on the `s_id`:"
   ]
  },
  {
   "cell_type": "code",
   "execution_count": 5,
   "metadata": {
    "collapsed": false
   },
   "outputs": [
    {
     "name": "stdout",
     "output_type": "stream",
     "text": [
      "Done.\n"
     ]
    },
    {
     "data": {
      "text/html": [
       "<table>\n",
       "    <tr>\n",
       "        <th>s_name</th>\n",
       "        <th>major</th>\n",
       "    </tr>\n",
       "    <tr>\n",
       "        <td>Amy</td>\n",
       "        <td>CS</td>\n",
       "    </tr>\n",
       "    <tr>\n",
       "        <td>Amy</td>\n",
       "        <td>EE</td>\n",
       "    </tr>\n",
       "    <tr>\n",
       "        <td>Bob</td>\n",
       "        <td>biology</td>\n",
       "    </tr>\n",
       "    <tr>\n",
       "        <td>Craig</td>\n",
       "        <td>CS</td>\n",
       "    </tr>\n",
       "    <tr>\n",
       "        <td>Craig</td>\n",
       "        <td>EE</td>\n",
       "    </tr>\n",
       "    <tr>\n",
       "        <td>Craig</td>\n",
       "        <td>bioengineering</td>\n",
       "    </tr>\n",
       "    <tr>\n",
       "        <td>Fay</td>\n",
       "        <td>history</td>\n",
       "    </tr>\n",
       "    <tr>\n",
       "        <td>Helen</td>\n",
       "        <td>CS</td>\n",
       "    </tr>\n",
       "    <tr>\n",
       "        <td>Irene</td>\n",
       "        <td>CS</td>\n",
       "    </tr>\n",
       "    <tr>\n",
       "        <td>Irene</td>\n",
       "        <td>biology</td>\n",
       "    </tr>\n",
       "    <tr>\n",
       "        <td>Irene</td>\n",
       "        <td>marine biology</td>\n",
       "    </tr>\n",
       "    <tr>\n",
       "        <td>Jay</td>\n",
       "        <td>history</td>\n",
       "    </tr>\n",
       "    <tr>\n",
       "        <td>Jay</td>\n",
       "        <td>psychology</td>\n",
       "    </tr>\n",
       "</table>"
      ],
      "text/plain": [
       "[('Amy', 'CS'),\n",
       " ('Amy', 'EE'),\n",
       " ('Bob', 'biology'),\n",
       " ('Craig', 'CS'),\n",
       " ('Craig', 'EE'),\n",
       " ('Craig', 'bioengineering'),\n",
       " ('Fay', 'history'),\n",
       " ('Helen', 'CS'),\n",
       " ('Irene', 'CS'),\n",
       " ('Irene', 'biology'),\n",
       " ('Irene', 'marine biology'),\n",
       " ('Jay', 'history'),\n",
       " ('Jay', 'psychology')]"
      ]
     },
     "execution_count": 5,
     "metadata": {},
     "output_type": "execute_result"
    }
   ],
   "source": [
    "%%sql\n",
    "SELECT DISTINCT s_name, major\n",
    "FROM   students s INNER JOIN applications a\n",
    "ON     s.s_id = a.s_id"
   ]
  },
  {
   "cell_type": "markdown",
   "metadata": {},
   "source": [
    "and as `INNER JOIN` is the default join operator, we can omit the\n",
    "`INNER`:"
   ]
  },
  {
   "cell_type": "code",
   "execution_count": 6,
   "metadata": {
    "collapsed": false
   },
   "outputs": [
    {
     "name": "stdout",
     "output_type": "stream",
     "text": [
      "Done.\n"
     ]
    },
    {
     "data": {
      "text/html": [
       "<table>\n",
       "    <tr>\n",
       "        <th>s_name</th>\n",
       "        <th>major</th>\n",
       "    </tr>\n",
       "    <tr>\n",
       "        <td>Amy</td>\n",
       "        <td>CS</td>\n",
       "    </tr>\n",
       "    <tr>\n",
       "        <td>Amy</td>\n",
       "        <td>EE</td>\n",
       "    </tr>\n",
       "    <tr>\n",
       "        <td>Bob</td>\n",
       "        <td>biology</td>\n",
       "    </tr>\n",
       "    <tr>\n",
       "        <td>Craig</td>\n",
       "        <td>CS</td>\n",
       "    </tr>\n",
       "    <tr>\n",
       "        <td>Craig</td>\n",
       "        <td>EE</td>\n",
       "    </tr>\n",
       "    <tr>\n",
       "        <td>Craig</td>\n",
       "        <td>bioengineering</td>\n",
       "    </tr>\n",
       "    <tr>\n",
       "        <td>Fay</td>\n",
       "        <td>history</td>\n",
       "    </tr>\n",
       "    <tr>\n",
       "        <td>Helen</td>\n",
       "        <td>CS</td>\n",
       "    </tr>\n",
       "    <tr>\n",
       "        <td>Irene</td>\n",
       "        <td>CS</td>\n",
       "    </tr>\n",
       "    <tr>\n",
       "        <td>Irene</td>\n",
       "        <td>biology</td>\n",
       "    </tr>\n",
       "    <tr>\n",
       "        <td>Irene</td>\n",
       "        <td>marine biology</td>\n",
       "    </tr>\n",
       "    <tr>\n",
       "        <td>Jay</td>\n",
       "        <td>history</td>\n",
       "    </tr>\n",
       "    <tr>\n",
       "        <td>Jay</td>\n",
       "        <td>psychology</td>\n",
       "    </tr>\n",
       "</table>"
      ],
      "text/plain": [
       "[('Amy', 'CS'),\n",
       " ('Amy', 'EE'),\n",
       " ('Bob', 'biology'),\n",
       " ('Craig', 'CS'),\n",
       " ('Craig', 'EE'),\n",
       " ('Craig', 'bioengineering'),\n",
       " ('Fay', 'history'),\n",
       " ('Helen', 'CS'),\n",
       " ('Irene', 'CS'),\n",
       " ('Irene', 'biology'),\n",
       " ('Irene', 'marine biology'),\n",
       " ('Jay', 'history'),\n",
       " ('Jay', 'psychology')]"
      ]
     },
     "execution_count": 6,
     "metadata": {},
     "output_type": "execute_result"
    }
   ],
   "source": [
    "%%sql\n",
    "SELECT DISTINCT s_name, major\n",
    "FROM   students s JOIN applications a\n",
    "ON     s.s_id = a.s_id"
   ]
  },
  {
   "cell_type": "markdown",
   "metadata": {},
   "source": [
    "We can add conditions to our inner joins, we start with another\n",
    "typical cross join:"
   ]
  },
  {
   "cell_type": "code",
   "execution_count": 7,
   "metadata": {
    "collapsed": false
   },
   "outputs": [
    {
     "name": "stdout",
     "output_type": "stream",
     "text": [
      "Done.\n"
     ]
    },
    {
     "data": {
      "text/html": [
       "<table>\n",
       "    <tr>\n",
       "        <th>s_name</th>\n",
       "        <th>gpa</th>\n",
       "    </tr>\n",
       "    <tr>\n",
       "        <td>Helen</td>\n",
       "        <td>3.7</td>\n",
       "    </tr>\n",
       "    <tr>\n",
       "        <td>Irene</td>\n",
       "        <td>3.9</td>\n",
       "    </tr>\n",
       "</table>"
      ],
      "text/plain": [
       "[('Helen', 3.7), ('Irene', 3.9)]"
      ]
     },
     "execution_count": 7,
     "metadata": {},
     "output_type": "execute_result"
    }
   ],
   "source": [
    "%%sql\n",
    "SELECT s_name, gpa\n",
    "FROM   students s, applications a\n",
    "WHERE  s.s_id = a.s_id AND\n",
    "       size_hs < 1000 AND\n",
    "       major = 'CS' AND\n",
    "       c_name = 'Stanford'"
   ]
  },
  {
   "cell_type": "markdown",
   "metadata": {},
   "source": [
    "This can be rewritten to a `INNER JOIN` on the id's, and the rest of\n",
    "the condition can be a `WHERE` clause:"
   ]
  },
  {
   "cell_type": "code",
   "execution_count": 8,
   "metadata": {
    "collapsed": false
   },
   "outputs": [
    {
     "name": "stdout",
     "output_type": "stream",
     "text": [
      "Done.\n"
     ]
    },
    {
     "data": {
      "text/html": [
       "<table>\n",
       "    <tr>\n",
       "        <th>s_name</th>\n",
       "        <th>gpa</th>\n",
       "    </tr>\n",
       "    <tr>\n",
       "        <td>Helen</td>\n",
       "        <td>3.7</td>\n",
       "    </tr>\n",
       "    <tr>\n",
       "        <td>Irene</td>\n",
       "        <td>3.9</td>\n",
       "    </tr>\n",
       "</table>"
      ],
      "text/plain": [
       "[('Helen', 3.7), ('Irene', 3.9)]"
      ]
     },
     "execution_count": 8,
     "metadata": {},
     "output_type": "execute_result"
    }
   ],
   "source": [
    "%%sql\n",
    "SELECT s_name, gpa\n",
    "FROM   students s JOIN applications a\n",
    "ON     s.s_id = a.s_id\n",
    "WHERE  size_hs < 1000 AND\n",
    "       major = 'CS' AND\n",
    "       c_name = 'Stanford'"
   ]
  },
  {
   "cell_type": "markdown",
   "metadata": {},
   "source": [
    "but we can also put all conditions in the `ON` clause:"
   ]
  },
  {
   "cell_type": "code",
   "execution_count": 9,
   "metadata": {
    "collapsed": false
   },
   "outputs": [
    {
     "name": "stdout",
     "output_type": "stream",
     "text": [
      "Done.\n"
     ]
    },
    {
     "data": {
      "text/html": [
       "<table>\n",
       "    <tr>\n",
       "        <th>s_name</th>\n",
       "        <th>gpa</th>\n",
       "    </tr>\n",
       "    <tr>\n",
       "        <td>Helen</td>\n",
       "        <td>3.7</td>\n",
       "    </tr>\n",
       "    <tr>\n",
       "        <td>Irene</td>\n",
       "        <td>3.9</td>\n",
       "    </tr>\n",
       "</table>"
      ],
      "text/plain": [
       "[('Helen', 3.7), ('Irene', 3.9)]"
      ]
     },
     "execution_count": 9,
     "metadata": {},
     "output_type": "execute_result"
    }
   ],
   "source": [
    "%%sql\n",
    "SELECT s_name, gpa\n",
    "FROM   students s JOIN applications a\n",
    "ON     s.s_id = a.s_id AND\n",
    "       size_hs < 1000 AND\n",
    "       major = 'CS' AND\n",
    "       c_name = 'Stanford'"
   ]
  },
  {
   "cell_type": "markdown",
   "metadata": {},
   "source": [
    "It will make little difference, the query engine is supposed to\n",
    "optimize our queries either way.\n",
    "\n",
    "Now let's try with three tables -- we want to see some application\n",
    "information:"
   ]
  },
  {
   "cell_type": "code",
   "execution_count": 11,
   "metadata": {
    "collapsed": false
   },
   "outputs": [
    {
     "name": "stdout",
     "output_type": "stream",
     "text": [
      "Done.\n"
     ]
    },
    {
     "data": {
      "text/html": [
       "<table>\n",
       "    <tr>\n",
       "        <th>s_id</th>\n",
       "        <th>s_name</th>\n",
       "        <th>gpa</th>\n",
       "        <th>c_name</th>\n",
       "        <th>enrollment</th>\n",
       "    </tr>\n",
       "    <tr>\n",
       "        <td>123</td>\n",
       "        <td>Amy</td>\n",
       "        <td>3.9</td>\n",
       "        <td>Stanford</td>\n",
       "        <td>15000</td>\n",
       "    </tr>\n",
       "    <tr>\n",
       "        <td>123</td>\n",
       "        <td>Amy</td>\n",
       "        <td>3.9</td>\n",
       "        <td>Stanford</td>\n",
       "        <td>15000</td>\n",
       "    </tr>\n",
       "    <tr>\n",
       "        <td>123</td>\n",
       "        <td>Amy</td>\n",
       "        <td>3.9</td>\n",
       "        <td>Berkeley</td>\n",
       "        <td>36000</td>\n",
       "    </tr>\n",
       "    <tr>\n",
       "        <td>123</td>\n",
       "        <td>Amy</td>\n",
       "        <td>3.9</td>\n",
       "        <td>Cornell</td>\n",
       "        <td>21000</td>\n",
       "    </tr>\n",
       "    <tr>\n",
       "        <td>234</td>\n",
       "        <td>Bob</td>\n",
       "        <td>3.6</td>\n",
       "        <td>Berkeley</td>\n",
       "        <td>36000</td>\n",
       "    </tr>\n",
       "    <tr>\n",
       "        <td>345</td>\n",
       "        <td>Craig</td>\n",
       "        <td>3.5</td>\n",
       "        <td>MIT</td>\n",
       "        <td>10000</td>\n",
       "    </tr>\n",
       "    <tr>\n",
       "        <td>345</td>\n",
       "        <td>Craig</td>\n",
       "        <td>3.5</td>\n",
       "        <td>Cornell</td>\n",
       "        <td>21000</td>\n",
       "    </tr>\n",
       "    <tr>\n",
       "        <td>345</td>\n",
       "        <td>Craig</td>\n",
       "        <td>3.5</td>\n",
       "        <td>Cornell</td>\n",
       "        <td>21000</td>\n",
       "    </tr>\n",
       "    <tr>\n",
       "        <td>345</td>\n",
       "        <td>Craig</td>\n",
       "        <td>3.5</td>\n",
       "        <td>Cornell</td>\n",
       "        <td>21000</td>\n",
       "    </tr>\n",
       "    <tr>\n",
       "        <td>678</td>\n",
       "        <td>Fay</td>\n",
       "        <td>3.8</td>\n",
       "        <td>Stanford</td>\n",
       "        <td>15000</td>\n",
       "    </tr>\n",
       "    <tr>\n",
       "        <td>987</td>\n",
       "        <td>Helen</td>\n",
       "        <td>3.7</td>\n",
       "        <td>Stanford</td>\n",
       "        <td>15000</td>\n",
       "    </tr>\n",
       "    <tr>\n",
       "        <td>987</td>\n",
       "        <td>Helen</td>\n",
       "        <td>3.7</td>\n",
       "        <td>Berkeley</td>\n",
       "        <td>36000</td>\n",
       "    </tr>\n",
       "    <tr>\n",
       "        <td>876</td>\n",
       "        <td>Irene</td>\n",
       "        <td>3.9</td>\n",
       "        <td>Stanford</td>\n",
       "        <td>15000</td>\n",
       "    </tr>\n",
       "    <tr>\n",
       "        <td>876</td>\n",
       "        <td>Irene</td>\n",
       "        <td>3.9</td>\n",
       "        <td>MIT</td>\n",
       "        <td>10000</td>\n",
       "    </tr>\n",
       "    <tr>\n",
       "        <td>876</td>\n",
       "        <td>Irene</td>\n",
       "        <td>3.9</td>\n",
       "        <td>MIT</td>\n",
       "        <td>10000</td>\n",
       "    </tr>\n",
       "    <tr>\n",
       "        <td>765</td>\n",
       "        <td>Jay</td>\n",
       "        <td>2.9</td>\n",
       "        <td>Stanford</td>\n",
       "        <td>15000</td>\n",
       "    </tr>\n",
       "    <tr>\n",
       "        <td>765</td>\n",
       "        <td>Jay</td>\n",
       "        <td>2.9</td>\n",
       "        <td>Cornell</td>\n",
       "        <td>21000</td>\n",
       "    </tr>\n",
       "    <tr>\n",
       "        <td>765</td>\n",
       "        <td>Jay</td>\n",
       "        <td>2.9</td>\n",
       "        <td>Cornell</td>\n",
       "        <td>21000</td>\n",
       "    </tr>\n",
       "    <tr>\n",
       "        <td>543</td>\n",
       "        <td>Craig</td>\n",
       "        <td>3.4</td>\n",
       "        <td>MIT</td>\n",
       "        <td>10000</td>\n",
       "    </tr>\n",
       "</table>"
      ],
      "text/plain": [
       "[(123, 'Amy', 3.9, 'Stanford', 15000),\n",
       " (123, 'Amy', 3.9, 'Stanford', 15000),\n",
       " (123, 'Amy', 3.9, 'Berkeley', 36000),\n",
       " (123, 'Amy', 3.9, 'Cornell', 21000),\n",
       " (234, 'Bob', 3.6, 'Berkeley', 36000),\n",
       " (345, 'Craig', 3.5, 'MIT', 10000),\n",
       " (345, 'Craig', 3.5, 'Cornell', 21000),\n",
       " (345, 'Craig', 3.5, 'Cornell', 21000),\n",
       " (345, 'Craig', 3.5, 'Cornell', 21000),\n",
       " (678, 'Fay', 3.8, 'Stanford', 15000),\n",
       " (987, 'Helen', 3.7, 'Stanford', 15000),\n",
       " (987, 'Helen', 3.7, 'Berkeley', 36000),\n",
       " (876, 'Irene', 3.9, 'Stanford', 15000),\n",
       " (876, 'Irene', 3.9, 'MIT', 10000),\n",
       " (876, 'Irene', 3.9, 'MIT', 10000),\n",
       " (765, 'Jay', 2.9, 'Stanford', 15000),\n",
       " (765, 'Jay', 2.9, 'Cornell', 21000),\n",
       " (765, 'Jay', 2.9, 'Cornell', 21000),\n",
       " (543, 'Craig', 3.4, 'MIT', 10000)]"
      ]
     },
     "execution_count": 11,
     "metadata": {},
     "output_type": "execute_result"
    }
   ],
   "source": [
    "%%sql\n",
    "SELECT a.s_id, s_name, gpa, a.c_name, enrollment\n",
    "FROM   applications a, students s, colleges c\n",
    "WHERE  a.s_id = s.s_id AND\n",
    "       a.c_name = c.c_name"
   ]
  },
  {
   "cell_type": "markdown",
   "metadata": {},
   "source": [
    "We can again rewrite this as joins:"
   ]
  },
  {
   "cell_type": "code",
   "execution_count": 12,
   "metadata": {
    "collapsed": false
   },
   "outputs": [
    {
     "name": "stdout",
     "output_type": "stream",
     "text": [
      "Done.\n"
     ]
    },
    {
     "data": {
      "text/html": [
       "<table>\n",
       "    <tr>\n",
       "        <th>s_id</th>\n",
       "        <th>s_name</th>\n",
       "        <th>gpa</th>\n",
       "        <th>c_name</th>\n",
       "        <th>enrollment</th>\n",
       "    </tr>\n",
       "    <tr>\n",
       "        <td>123</td>\n",
       "        <td>Amy</td>\n",
       "        <td>3.9</td>\n",
       "        <td>Stanford</td>\n",
       "        <td>15000</td>\n",
       "    </tr>\n",
       "    <tr>\n",
       "        <td>123</td>\n",
       "        <td>Amy</td>\n",
       "        <td>3.9</td>\n",
       "        <td>Stanford</td>\n",
       "        <td>15000</td>\n",
       "    </tr>\n",
       "    <tr>\n",
       "        <td>123</td>\n",
       "        <td>Amy</td>\n",
       "        <td>3.9</td>\n",
       "        <td>Berkeley</td>\n",
       "        <td>36000</td>\n",
       "    </tr>\n",
       "    <tr>\n",
       "        <td>123</td>\n",
       "        <td>Amy</td>\n",
       "        <td>3.9</td>\n",
       "        <td>Cornell</td>\n",
       "        <td>21000</td>\n",
       "    </tr>\n",
       "    <tr>\n",
       "        <td>234</td>\n",
       "        <td>Bob</td>\n",
       "        <td>3.6</td>\n",
       "        <td>Berkeley</td>\n",
       "        <td>36000</td>\n",
       "    </tr>\n",
       "    <tr>\n",
       "        <td>345</td>\n",
       "        <td>Craig</td>\n",
       "        <td>3.5</td>\n",
       "        <td>MIT</td>\n",
       "        <td>10000</td>\n",
       "    </tr>\n",
       "    <tr>\n",
       "        <td>345</td>\n",
       "        <td>Craig</td>\n",
       "        <td>3.5</td>\n",
       "        <td>Cornell</td>\n",
       "        <td>21000</td>\n",
       "    </tr>\n",
       "    <tr>\n",
       "        <td>345</td>\n",
       "        <td>Craig</td>\n",
       "        <td>3.5</td>\n",
       "        <td>Cornell</td>\n",
       "        <td>21000</td>\n",
       "    </tr>\n",
       "    <tr>\n",
       "        <td>345</td>\n",
       "        <td>Craig</td>\n",
       "        <td>3.5</td>\n",
       "        <td>Cornell</td>\n",
       "        <td>21000</td>\n",
       "    </tr>\n",
       "    <tr>\n",
       "        <td>678</td>\n",
       "        <td>Fay</td>\n",
       "        <td>3.8</td>\n",
       "        <td>Stanford</td>\n",
       "        <td>15000</td>\n",
       "    </tr>\n",
       "    <tr>\n",
       "        <td>987</td>\n",
       "        <td>Helen</td>\n",
       "        <td>3.7</td>\n",
       "        <td>Stanford</td>\n",
       "        <td>15000</td>\n",
       "    </tr>\n",
       "    <tr>\n",
       "        <td>987</td>\n",
       "        <td>Helen</td>\n",
       "        <td>3.7</td>\n",
       "        <td>Berkeley</td>\n",
       "        <td>36000</td>\n",
       "    </tr>\n",
       "    <tr>\n",
       "        <td>876</td>\n",
       "        <td>Irene</td>\n",
       "        <td>3.9</td>\n",
       "        <td>Stanford</td>\n",
       "        <td>15000</td>\n",
       "    </tr>\n",
       "    <tr>\n",
       "        <td>876</td>\n",
       "        <td>Irene</td>\n",
       "        <td>3.9</td>\n",
       "        <td>MIT</td>\n",
       "        <td>10000</td>\n",
       "    </tr>\n",
       "    <tr>\n",
       "        <td>876</td>\n",
       "        <td>Irene</td>\n",
       "        <td>3.9</td>\n",
       "        <td>MIT</td>\n",
       "        <td>10000</td>\n",
       "    </tr>\n",
       "    <tr>\n",
       "        <td>765</td>\n",
       "        <td>Jay</td>\n",
       "        <td>2.9</td>\n",
       "        <td>Stanford</td>\n",
       "        <td>15000</td>\n",
       "    </tr>\n",
       "    <tr>\n",
       "        <td>765</td>\n",
       "        <td>Jay</td>\n",
       "        <td>2.9</td>\n",
       "        <td>Cornell</td>\n",
       "        <td>21000</td>\n",
       "    </tr>\n",
       "    <tr>\n",
       "        <td>765</td>\n",
       "        <td>Jay</td>\n",
       "        <td>2.9</td>\n",
       "        <td>Cornell</td>\n",
       "        <td>21000</td>\n",
       "    </tr>\n",
       "    <tr>\n",
       "        <td>543</td>\n",
       "        <td>Craig</td>\n",
       "        <td>3.4</td>\n",
       "        <td>MIT</td>\n",
       "        <td>10000</td>\n",
       "    </tr>\n",
       "</table>"
      ],
      "text/plain": [
       "[(123, 'Amy', 3.9, 'Stanford', 15000),\n",
       " (123, 'Amy', 3.9, 'Stanford', 15000),\n",
       " (123, 'Amy', 3.9, 'Berkeley', 36000),\n",
       " (123, 'Amy', 3.9, 'Cornell', 21000),\n",
       " (234, 'Bob', 3.6, 'Berkeley', 36000),\n",
       " (345, 'Craig', 3.5, 'MIT', 10000),\n",
       " (345, 'Craig', 3.5, 'Cornell', 21000),\n",
       " (345, 'Craig', 3.5, 'Cornell', 21000),\n",
       " (345, 'Craig', 3.5, 'Cornell', 21000),\n",
       " (678, 'Fay', 3.8, 'Stanford', 15000),\n",
       " (987, 'Helen', 3.7, 'Stanford', 15000),\n",
       " (987, 'Helen', 3.7, 'Berkeley', 36000),\n",
       " (876, 'Irene', 3.9, 'Stanford', 15000),\n",
       " (876, 'Irene', 3.9, 'MIT', 10000),\n",
       " (876, 'Irene', 3.9, 'MIT', 10000),\n",
       " (765, 'Jay', 2.9, 'Stanford', 15000),\n",
       " (765, 'Jay', 2.9, 'Cornell', 21000),\n",
       " (765, 'Jay', 2.9, 'Cornell', 21000),\n",
       " (543, 'Craig', 3.4, 'MIT', 10000)]"
      ]
     },
     "execution_count": 12,
     "metadata": {},
     "output_type": "execute_result"
    }
   ],
   "source": [
    "%%sql\n",
    "SELECT a.s_id, s_name, gpa, a.c_name, enrollment\n",
    "FROM   applications a JOIN students s JOIN colleges c\n",
    "ON     a.s_id = s.s_id AND\n",
    "       a.c_name = c.c_name"
   ]
  },
  {
   "cell_type": "markdown",
   "metadata": {},
   "source": [
    "## Other kinds of joins\n",
    "\n",
    "Back to our original query:"
   ]
  },
  {
   "cell_type": "code",
   "execution_count": 13,
   "metadata": {
    "collapsed": false
   },
   "outputs": [
    {
     "name": "stdout",
     "output_type": "stream",
     "text": [
      "Done.\n"
     ]
    },
    {
     "data": {
      "text/html": [
       "<table>\n",
       "    <tr>\n",
       "        <th>s_name</th>\n",
       "        <th>major</th>\n",
       "    </tr>\n",
       "    <tr>\n",
       "        <td>Amy</td>\n",
       "        <td>CS</td>\n",
       "    </tr>\n",
       "    <tr>\n",
       "        <td>Amy</td>\n",
       "        <td>EE</td>\n",
       "    </tr>\n",
       "    <tr>\n",
       "        <td>Bob</td>\n",
       "        <td>biology</td>\n",
       "    </tr>\n",
       "    <tr>\n",
       "        <td>Craig</td>\n",
       "        <td>CS</td>\n",
       "    </tr>\n",
       "    <tr>\n",
       "        <td>Craig</td>\n",
       "        <td>EE</td>\n",
       "    </tr>\n",
       "    <tr>\n",
       "        <td>Craig</td>\n",
       "        <td>bioengineering</td>\n",
       "    </tr>\n",
       "    <tr>\n",
       "        <td>Fay</td>\n",
       "        <td>history</td>\n",
       "    </tr>\n",
       "    <tr>\n",
       "        <td>Helen</td>\n",
       "        <td>CS</td>\n",
       "    </tr>\n",
       "    <tr>\n",
       "        <td>Irene</td>\n",
       "        <td>CS</td>\n",
       "    </tr>\n",
       "    <tr>\n",
       "        <td>Irene</td>\n",
       "        <td>biology</td>\n",
       "    </tr>\n",
       "    <tr>\n",
       "        <td>Irene</td>\n",
       "        <td>marine biology</td>\n",
       "    </tr>\n",
       "    <tr>\n",
       "        <td>Jay</td>\n",
       "        <td>history</td>\n",
       "    </tr>\n",
       "    <tr>\n",
       "        <td>Jay</td>\n",
       "        <td>psychology</td>\n",
       "    </tr>\n",
       "</table>"
      ],
      "text/plain": [
       "[('Amy', 'CS'),\n",
       " ('Amy', 'EE'),\n",
       " ('Bob', 'biology'),\n",
       " ('Craig', 'CS'),\n",
       " ('Craig', 'EE'),\n",
       " ('Craig', 'bioengineering'),\n",
       " ('Fay', 'history'),\n",
       " ('Helen', 'CS'),\n",
       " ('Irene', 'CS'),\n",
       " ('Irene', 'biology'),\n",
       " ('Irene', 'marine biology'),\n",
       " ('Jay', 'history'),\n",
       " ('Jay', 'psychology')]"
      ]
     },
     "execution_count": 13,
     "metadata": {},
     "output_type": "execute_result"
    }
   ],
   "source": [
    "%%sql\n",
    "SELECT DISTINCT s_name, major\n",
    "FROM   students s INNER JOIN applications a\n",
    "ON     s.s_id = a.s_id"
   ]
  },
  {
   "cell_type": "markdown",
   "metadata": {},
   "source": [
    "Since our two tables have the attribute `s_id` in common, we can use a\n",
    "*natural join*:"
   ]
  },
  {
   "cell_type": "code",
   "execution_count": 14,
   "metadata": {
    "collapsed": false
   },
   "outputs": [
    {
     "name": "stdout",
     "output_type": "stream",
     "text": [
      "Done.\n"
     ]
    },
    {
     "data": {
      "text/html": [
       "<table>\n",
       "    <tr>\n",
       "        <th>s_name</th>\n",
       "        <th>major</th>\n",
       "    </tr>\n",
       "    <tr>\n",
       "        <td>Amy</td>\n",
       "        <td>CS</td>\n",
       "    </tr>\n",
       "    <tr>\n",
       "        <td>Amy</td>\n",
       "        <td>EE</td>\n",
       "    </tr>\n",
       "    <tr>\n",
       "        <td>Bob</td>\n",
       "        <td>biology</td>\n",
       "    </tr>\n",
       "    <tr>\n",
       "        <td>Craig</td>\n",
       "        <td>CS</td>\n",
       "    </tr>\n",
       "    <tr>\n",
       "        <td>Craig</td>\n",
       "        <td>EE</td>\n",
       "    </tr>\n",
       "    <tr>\n",
       "        <td>Craig</td>\n",
       "        <td>bioengineering</td>\n",
       "    </tr>\n",
       "    <tr>\n",
       "        <td>Fay</td>\n",
       "        <td>history</td>\n",
       "    </tr>\n",
       "    <tr>\n",
       "        <td>Helen</td>\n",
       "        <td>CS</td>\n",
       "    </tr>\n",
       "    <tr>\n",
       "        <td>Irene</td>\n",
       "        <td>CS</td>\n",
       "    </tr>\n",
       "    <tr>\n",
       "        <td>Irene</td>\n",
       "        <td>biology</td>\n",
       "    </tr>\n",
       "    <tr>\n",
       "        <td>Irene</td>\n",
       "        <td>marine biology</td>\n",
       "    </tr>\n",
       "    <tr>\n",
       "        <td>Jay</td>\n",
       "        <td>history</td>\n",
       "    </tr>\n",
       "    <tr>\n",
       "        <td>Jay</td>\n",
       "        <td>psychology</td>\n",
       "    </tr>\n",
       "</table>"
      ],
      "text/plain": [
       "[('Amy', 'CS'),\n",
       " ('Amy', 'EE'),\n",
       " ('Bob', 'biology'),\n",
       " ('Craig', 'CS'),\n",
       " ('Craig', 'EE'),\n",
       " ('Craig', 'bioengineering'),\n",
       " ('Fay', 'history'),\n",
       " ('Helen', 'CS'),\n",
       " ('Irene', 'CS'),\n",
       " ('Irene', 'biology'),\n",
       " ('Irene', 'marine biology'),\n",
       " ('Jay', 'history'),\n",
       " ('Jay', 'psychology')]"
      ]
     },
     "execution_count": 14,
     "metadata": {},
     "output_type": "execute_result"
    }
   ],
   "source": [
    "%%sql\n",
    "SELECT DISTINCT s_name, major\n",
    "FROM   students NATURAL JOIN applications"
   ]
  },
  {
   "cell_type": "markdown",
   "metadata": {},
   "source": [
    "The natural join will eliminate the duplicate attributes:"
   ]
  },
  {
   "cell_type": "code",
   "execution_count": 15,
   "metadata": {
    "collapsed": false
   },
   "outputs": [
    {
     "name": "stdout",
     "output_type": "stream",
     "text": [
      "Done.\n"
     ]
    },
    {
     "data": {
      "text/html": [
       "<table>\n",
       "    <tr>\n",
       "        <th>s_id</th>\n",
       "        <th>s_name</th>\n",
       "        <th>gpa</th>\n",
       "        <th>size_hs</th>\n",
       "        <th>c_name</th>\n",
       "        <th>major</th>\n",
       "        <th>decision</th>\n",
       "    </tr>\n",
       "    <tr>\n",
       "        <td>123</td>\n",
       "        <td>Amy</td>\n",
       "        <td>3.9</td>\n",
       "        <td>1000</td>\n",
       "        <td>Berkeley</td>\n",
       "        <td>CS</td>\n",
       "        <td>Y</td>\n",
       "    </tr>\n",
       "    <tr>\n",
       "        <td>123</td>\n",
       "        <td>Amy</td>\n",
       "        <td>3.9</td>\n",
       "        <td>1000</td>\n",
       "        <td>Cornell</td>\n",
       "        <td>EE</td>\n",
       "        <td>Y</td>\n",
       "    </tr>\n",
       "    <tr>\n",
       "        <td>123</td>\n",
       "        <td>Amy</td>\n",
       "        <td>3.9</td>\n",
       "        <td>1000</td>\n",
       "        <td>Stanford</td>\n",
       "        <td>CS</td>\n",
       "        <td>Y</td>\n",
       "    </tr>\n",
       "    <tr>\n",
       "        <td>123</td>\n",
       "        <td>Amy</td>\n",
       "        <td>3.9</td>\n",
       "        <td>1000</td>\n",
       "        <td>Stanford</td>\n",
       "        <td>EE</td>\n",
       "        <td>N</td>\n",
       "    </tr>\n",
       "    <tr>\n",
       "        <td>234</td>\n",
       "        <td>Bob</td>\n",
       "        <td>3.6</td>\n",
       "        <td>1500</td>\n",
       "        <td>Berkeley</td>\n",
       "        <td>biology</td>\n",
       "        <td>N</td>\n",
       "    </tr>\n",
       "    <tr>\n",
       "        <td>345</td>\n",
       "        <td>Craig</td>\n",
       "        <td>3.5</td>\n",
       "        <td>500</td>\n",
       "        <td>Cornell</td>\n",
       "        <td>CS</td>\n",
       "        <td>Y</td>\n",
       "    </tr>\n",
       "    <tr>\n",
       "        <td>345</td>\n",
       "        <td>Craig</td>\n",
       "        <td>3.5</td>\n",
       "        <td>500</td>\n",
       "        <td>Cornell</td>\n",
       "        <td>EE</td>\n",
       "        <td>N</td>\n",
       "    </tr>\n",
       "    <tr>\n",
       "        <td>345</td>\n",
       "        <td>Craig</td>\n",
       "        <td>3.5</td>\n",
       "        <td>500</td>\n",
       "        <td>Cornell</td>\n",
       "        <td>bioengineering</td>\n",
       "        <td>N</td>\n",
       "    </tr>\n",
       "    <tr>\n",
       "        <td>345</td>\n",
       "        <td>Craig</td>\n",
       "        <td>3.5</td>\n",
       "        <td>500</td>\n",
       "        <td>MIT</td>\n",
       "        <td>bioengineering</td>\n",
       "        <td>Y</td>\n",
       "    </tr>\n",
       "    <tr>\n",
       "        <td>678</td>\n",
       "        <td>Fay</td>\n",
       "        <td>3.8</td>\n",
       "        <td>200</td>\n",
       "        <td>Stanford</td>\n",
       "        <td>history</td>\n",
       "        <td>Y</td>\n",
       "    </tr>\n",
       "    <tr>\n",
       "        <td>987</td>\n",
       "        <td>Helen</td>\n",
       "        <td>3.7</td>\n",
       "        <td>800</td>\n",
       "        <td>Berkeley</td>\n",
       "        <td>CS</td>\n",
       "        <td>Y</td>\n",
       "    </tr>\n",
       "    <tr>\n",
       "        <td>987</td>\n",
       "        <td>Helen</td>\n",
       "        <td>3.7</td>\n",
       "        <td>800</td>\n",
       "        <td>Stanford</td>\n",
       "        <td>CS</td>\n",
       "        <td>Y</td>\n",
       "    </tr>\n",
       "    <tr>\n",
       "        <td>876</td>\n",
       "        <td>Irene</td>\n",
       "        <td>3.9</td>\n",
       "        <td>400</td>\n",
       "        <td>MIT</td>\n",
       "        <td>biology</td>\n",
       "        <td>Y</td>\n",
       "    </tr>\n",
       "    <tr>\n",
       "        <td>876</td>\n",
       "        <td>Irene</td>\n",
       "        <td>3.9</td>\n",
       "        <td>400</td>\n",
       "        <td>MIT</td>\n",
       "        <td>marine biology</td>\n",
       "        <td>N</td>\n",
       "    </tr>\n",
       "    <tr>\n",
       "        <td>876</td>\n",
       "        <td>Irene</td>\n",
       "        <td>3.9</td>\n",
       "        <td>400</td>\n",
       "        <td>Stanford</td>\n",
       "        <td>CS</td>\n",
       "        <td>N</td>\n",
       "    </tr>\n",
       "    <tr>\n",
       "        <td>765</td>\n",
       "        <td>Jay</td>\n",
       "        <td>2.9</td>\n",
       "        <td>1500</td>\n",
       "        <td>Cornell</td>\n",
       "        <td>history</td>\n",
       "        <td>N</td>\n",
       "    </tr>\n",
       "    <tr>\n",
       "        <td>765</td>\n",
       "        <td>Jay</td>\n",
       "        <td>2.9</td>\n",
       "        <td>1500</td>\n",
       "        <td>Cornell</td>\n",
       "        <td>psychology</td>\n",
       "        <td>Y</td>\n",
       "    </tr>\n",
       "    <tr>\n",
       "        <td>765</td>\n",
       "        <td>Jay</td>\n",
       "        <td>2.9</td>\n",
       "        <td>1500</td>\n",
       "        <td>Stanford</td>\n",
       "        <td>history</td>\n",
       "        <td>Y</td>\n",
       "    </tr>\n",
       "    <tr>\n",
       "        <td>543</td>\n",
       "        <td>Craig</td>\n",
       "        <td>3.4</td>\n",
       "        <td>2000</td>\n",
       "        <td>MIT</td>\n",
       "        <td>CS</td>\n",
       "        <td>N</td>\n",
       "    </tr>\n",
       "</table>"
      ],
      "text/plain": [
       "[(123, 'Amy', 3.9, 1000, 'Berkeley', 'CS', 'Y'),\n",
       " (123, 'Amy', 3.9, 1000, 'Cornell', 'EE', 'Y'),\n",
       " (123, 'Amy', 3.9, 1000, 'Stanford', 'CS', 'Y'),\n",
       " (123, 'Amy', 3.9, 1000, 'Stanford', 'EE', 'N'),\n",
       " (234, 'Bob', 3.6, 1500, 'Berkeley', 'biology', 'N'),\n",
       " (345, 'Craig', 3.5, 500, 'Cornell', 'CS', 'Y'),\n",
       " (345, 'Craig', 3.5, 500, 'Cornell', 'EE', 'N'),\n",
       " (345, 'Craig', 3.5, 500, 'Cornell', 'bioengineering', 'N'),\n",
       " (345, 'Craig', 3.5, 500, 'MIT', 'bioengineering', 'Y'),\n",
       " (678, 'Fay', 3.8, 200, 'Stanford', 'history', 'Y'),\n",
       " (987, 'Helen', 3.7, 800, 'Berkeley', 'CS', 'Y'),\n",
       " (987, 'Helen', 3.7, 800, 'Stanford', 'CS', 'Y'),\n",
       " (876, 'Irene', 3.9, 400, 'MIT', 'biology', 'Y'),\n",
       " (876, 'Irene', 3.9, 400, 'MIT', 'marine biology', 'N'),\n",
       " (876, 'Irene', 3.9, 400, 'Stanford', 'CS', 'N'),\n",
       " (765, 'Jay', 2.9, 1500, 'Cornell', 'history', 'N'),\n",
       " (765, 'Jay', 2.9, 1500, 'Cornell', 'psychology', 'Y'),\n",
       " (765, 'Jay', 2.9, 1500, 'Stanford', 'history', 'Y'),\n",
       " (543, 'Craig', 3.4, 2000, 'MIT', 'CS', 'N')]"
      ]
     },
     "execution_count": 15,
     "metadata": {},
     "output_type": "execute_result"
    }
   ],
   "source": [
    "%%sql\n",
    "SELECT *\n",
    "FROM   students NATURAL JOIN applications"
   ]
  },
  {
   "cell_type": "markdown",
   "metadata": {},
   "source": [
    "Observe that there's only one `s_id` in the output.\n",
    "\n",
    "We can use natural joins with more complicated queries:"
   ]
  },
  {
   "cell_type": "code",
   "execution_count": 16,
   "metadata": {
    "collapsed": false
   },
   "outputs": [
    {
     "name": "stdout",
     "output_type": "stream",
     "text": [
      "Done.\n"
     ]
    },
    {
     "data": {
      "text/html": [
       "<table>\n",
       "    <tr>\n",
       "        <th>s_name</th>\n",
       "        <th>gpa</th>\n",
       "    </tr>\n",
       "    <tr>\n",
       "        <td>Helen</td>\n",
       "        <td>3.7</td>\n",
       "    </tr>\n",
       "    <tr>\n",
       "        <td>Irene</td>\n",
       "        <td>3.9</td>\n",
       "    </tr>\n",
       "</table>"
      ],
      "text/plain": [
       "[('Helen', 3.7), ('Irene', 3.9)]"
      ]
     },
     "execution_count": 16,
     "metadata": {},
     "output_type": "execute_result"
    }
   ],
   "source": [
    "%%sql\n",
    "SELECT s_name, gpa\n",
    "FROM   students s JOIN applications a\n",
    "ON     s.s_id = a.s_id\n",
    "WHERE  size_hs < 1000 AND\n",
    "       major = 'CS' AND\n",
    "       c_name = 'Stanford'"
   ]
  },
  {
   "cell_type": "markdown",
   "metadata": {},
   "source": [
    "Once again we have a common attribute, so we can write:"
   ]
  },
  {
   "cell_type": "code",
   "execution_count": 17,
   "metadata": {
    "collapsed": false
   },
   "outputs": [
    {
     "name": "stdout",
     "output_type": "stream",
     "text": [
      "Done.\n"
     ]
    },
    {
     "data": {
      "text/html": [
       "<table>\n",
       "    <tr>\n",
       "        <th>s_name</th>\n",
       "        <th>gpa</th>\n",
       "    </tr>\n",
       "    <tr>\n",
       "        <td>Helen</td>\n",
       "        <td>3.7</td>\n",
       "    </tr>\n",
       "    <tr>\n",
       "        <td>Irene</td>\n",
       "        <td>3.9</td>\n",
       "    </tr>\n",
       "</table>"
      ],
      "text/plain": [
       "[('Helen', 3.7), ('Irene', 3.9)]"
      ]
     },
     "execution_count": 17,
     "metadata": {},
     "output_type": "execute_result"
    }
   ],
   "source": [
    "%%sql\n",
    "SELECT s_name, gpa\n",
    "FROM   students s NATURAL JOIN applications a\n",
    "WHERE  size_hs < 1000 AND\n",
    "       major = 'CS' AND\n",
    "       c_name = 'Stanford'"
   ]
  },
  {
   "cell_type": "markdown",
   "metadata": {},
   "source": [
    "Using natural join is a bit risky, since we might have other\n",
    "attributes with the same name (it can easily happen over time, if we\n",
    "modify our tables) -- a better way of expressing this is to use a\n",
    "`JOIN` with `USING`:"
   ]
  },
  {
   "cell_type": "code",
   "execution_count": 18,
   "metadata": {
    "collapsed": false
   },
   "outputs": [
    {
     "name": "stdout",
     "output_type": "stream",
     "text": [
      "Done.\n"
     ]
    },
    {
     "data": {
      "text/html": [
       "<table>\n",
       "    <tr>\n",
       "        <th>s_name</th>\n",
       "        <th>gpa</th>\n",
       "    </tr>\n",
       "    <tr>\n",
       "        <td>Helen</td>\n",
       "        <td>3.7</td>\n",
       "    </tr>\n",
       "    <tr>\n",
       "        <td>Irene</td>\n",
       "        <td>3.9</td>\n",
       "    </tr>\n",
       "</table>"
      ],
      "text/plain": [
       "[('Helen', 3.7), ('Irene', 3.9)]"
      ]
     },
     "execution_count": 18,
     "metadata": {},
     "output_type": "execute_result"
    }
   ],
   "source": [
    "%%sql\n",
    "SELECT s_name, gpa\n",
    "FROM   students s JOIN applications a USING(s_id)\n",
    "WHERE  size_hs < 1000 AND\n",
    "       major = 'CS' AND\n",
    "       c_name = 'Stanford'"
   ]
  },
  {
   "cell_type": "markdown",
   "metadata": {},
   "source": [
    "Here we explicitly tell what attributes we want to equate.\n",
    "\n",
    "A slightly bigger example -- we want to find all pairs with the same\n",
    "Grade Point Average (GPA):"
   ]
  },
  {
   "cell_type": "code",
   "execution_count": 19,
   "metadata": {
    "collapsed": false
   },
   "outputs": [
    {
     "name": "stdout",
     "output_type": "stream",
     "text": [
      "Done.\n"
     ]
    },
    {
     "data": {
      "text/html": [
       "<table>\n",
       "    <tr>\n",
       "        <th>s_id</th>\n",
       "        <th>s_name</th>\n",
       "        <th>gpa</th>\n",
       "        <th>s_id_1</th>\n",
       "        <th>s_name_1</th>\n",
       "        <th>gpa_1</th>\n",
       "    </tr>\n",
       "    <tr>\n",
       "        <td>123</td>\n",
       "        <td>Amy</td>\n",
       "        <td>3.9</td>\n",
       "        <td>456</td>\n",
       "        <td>Doris</td>\n",
       "        <td>3.9</td>\n",
       "    </tr>\n",
       "    <tr>\n",
       "        <td>123</td>\n",
       "        <td>Amy</td>\n",
       "        <td>3.9</td>\n",
       "        <td>654</td>\n",
       "        <td>Amy</td>\n",
       "        <td>3.9</td>\n",
       "    </tr>\n",
       "    <tr>\n",
       "        <td>123</td>\n",
       "        <td>Amy</td>\n",
       "        <td>3.9</td>\n",
       "        <td>876</td>\n",
       "        <td>Irene</td>\n",
       "        <td>3.9</td>\n",
       "    </tr>\n",
       "    <tr>\n",
       "        <td>456</td>\n",
       "        <td>Doris</td>\n",
       "        <td>3.9</td>\n",
       "        <td>654</td>\n",
       "        <td>Amy</td>\n",
       "        <td>3.9</td>\n",
       "    </tr>\n",
       "    <tr>\n",
       "        <td>456</td>\n",
       "        <td>Doris</td>\n",
       "        <td>3.9</td>\n",
       "        <td>876</td>\n",
       "        <td>Irene</td>\n",
       "        <td>3.9</td>\n",
       "    </tr>\n",
       "    <tr>\n",
       "        <td>567</td>\n",
       "        <td>Edward</td>\n",
       "        <td>2.9</td>\n",
       "        <td>765</td>\n",
       "        <td>Jay</td>\n",
       "        <td>2.9</td>\n",
       "    </tr>\n",
       "    <tr>\n",
       "        <td>654</td>\n",
       "        <td>Amy</td>\n",
       "        <td>3.9</td>\n",
       "        <td>876</td>\n",
       "        <td>Irene</td>\n",
       "        <td>3.9</td>\n",
       "    </tr>\n",
       "    <tr>\n",
       "        <td>543</td>\n",
       "        <td>Craig</td>\n",
       "        <td>3.4</td>\n",
       "        <td>789</td>\n",
       "        <td>Gary</td>\n",
       "        <td>3.4</td>\n",
       "    </tr>\n",
       "</table>"
      ],
      "text/plain": [
       "[(123, 'Amy', 3.9, 456, 'Doris', 3.9),\n",
       " (123, 'Amy', 3.9, 654, 'Amy', 3.9),\n",
       " (123, 'Amy', 3.9, 876, 'Irene', 3.9),\n",
       " (456, 'Doris', 3.9, 654, 'Amy', 3.9),\n",
       " (456, 'Doris', 3.9, 876, 'Irene', 3.9),\n",
       " (567, 'Edward', 2.9, 765, 'Jay', 2.9),\n",
       " (654, 'Amy', 3.9, 876, 'Irene', 3.9),\n",
       " (543, 'Craig', 3.4, 789, 'Gary', 3.4)]"
      ]
     },
     "execution_count": 19,
     "metadata": {},
     "output_type": "execute_result"
    }
   ],
   "source": [
    "%%sql\n",
    "SELECT s1.s_id, s1.s_name, s1.gpa, s2.s_id, s2.s_name, s2.gpa\n",
    "FROM   students s1, students s2\n",
    "WHERE  s1.gpa = s2.gpa AND\n",
    "       s1.s_id < s2.s_id"
   ]
  },
  {
   "cell_type": "code",
   "execution_count": 22,
   "metadata": {
    "collapsed": false
   },
   "outputs": [
    {
     "name": "stdout",
     "output_type": "stream",
     "text": [
      "Done.\n"
     ]
    },
    {
     "data": {
      "text/html": [
       "<table>\n",
       "    <tr>\n",
       "        <th>s_id</th>\n",
       "        <th>s_name</th>\n",
       "        <th>gpa</th>\n",
       "        <th>s_id_1</th>\n",
       "        <th>s_name_1</th>\n",
       "        <th>gpa_1</th>\n",
       "    </tr>\n",
       "    <tr>\n",
       "        <td>123</td>\n",
       "        <td>Amy</td>\n",
       "        <td>3.9</td>\n",
       "        <td>456</td>\n",
       "        <td>Doris</td>\n",
       "        <td>3.9</td>\n",
       "    </tr>\n",
       "    <tr>\n",
       "        <td>123</td>\n",
       "        <td>Amy</td>\n",
       "        <td>3.9</td>\n",
       "        <td>654</td>\n",
       "        <td>Amy</td>\n",
       "        <td>3.9</td>\n",
       "    </tr>\n",
       "    <tr>\n",
       "        <td>123</td>\n",
       "        <td>Amy</td>\n",
       "        <td>3.9</td>\n",
       "        <td>876</td>\n",
       "        <td>Irene</td>\n",
       "        <td>3.9</td>\n",
       "    </tr>\n",
       "    <tr>\n",
       "        <td>456</td>\n",
       "        <td>Doris</td>\n",
       "        <td>3.9</td>\n",
       "        <td>654</td>\n",
       "        <td>Amy</td>\n",
       "        <td>3.9</td>\n",
       "    </tr>\n",
       "    <tr>\n",
       "        <td>456</td>\n",
       "        <td>Doris</td>\n",
       "        <td>3.9</td>\n",
       "        <td>876</td>\n",
       "        <td>Irene</td>\n",
       "        <td>3.9</td>\n",
       "    </tr>\n",
       "    <tr>\n",
       "        <td>567</td>\n",
       "        <td>Edward</td>\n",
       "        <td>2.9</td>\n",
       "        <td>765</td>\n",
       "        <td>Jay</td>\n",
       "        <td>2.9</td>\n",
       "    </tr>\n",
       "    <tr>\n",
       "        <td>654</td>\n",
       "        <td>Amy</td>\n",
       "        <td>3.9</td>\n",
       "        <td>876</td>\n",
       "        <td>Irene</td>\n",
       "        <td>3.9</td>\n",
       "    </tr>\n",
       "    <tr>\n",
       "        <td>543</td>\n",
       "        <td>Craig</td>\n",
       "        <td>3.4</td>\n",
       "        <td>789</td>\n",
       "        <td>Gary</td>\n",
       "        <td>3.4</td>\n",
       "    </tr>\n",
       "</table>"
      ],
      "text/plain": [
       "[(123, 'Amy', 3.9, 456, 'Doris', 3.9),\n",
       " (123, 'Amy', 3.9, 654, 'Amy', 3.9),\n",
       " (123, 'Amy', 3.9, 876, 'Irene', 3.9),\n",
       " (456, 'Doris', 3.9, 654, 'Amy', 3.9),\n",
       " (456, 'Doris', 3.9, 876, 'Irene', 3.9),\n",
       " (567, 'Edward', 2.9, 765, 'Jay', 2.9),\n",
       " (654, 'Amy', 3.9, 876, 'Irene', 3.9),\n",
       " (543, 'Craig', 3.4, 789, 'Gary', 3.4)]"
      ]
     },
     "execution_count": 22,
     "metadata": {},
     "output_type": "execute_result"
    }
   ],
   "source": [
    "%%sql\n",
    "SELECT s1.s_id, s1.s_name, s1.gpa, s2.s_id, s2.s_name, s2.gpa\n",
    "FROM   students s1 JOIN students s2 USING(gpa)\n",
    "WHERE  s1.s_id < s2.s_id"
   ]
  },
  {
   "cell_type": "markdown",
   "metadata": {},
   "source": [
    "We will return to joins when we get into relational algebra later in\n",
    "the course."
   ]
  }
 ],
 "metadata": {
  "anaconda-cloud": {},
  "kernelspec": {
   "display_name": "Python [default]",
   "language": "python",
   "name": "python3"
  },
  "language_info": {
   "codemirror_mode": {
    "name": "ipython",
    "version": 3
   },
   "file_extension": ".py",
   "mimetype": "text/x-python",
   "name": "python",
   "nbconvert_exporter": "python",
   "pygments_lexer": "ipython3",
   "version": "3.5.2"
  }
 },
 "nbformat": 4,
 "nbformat_minor": 1
}
